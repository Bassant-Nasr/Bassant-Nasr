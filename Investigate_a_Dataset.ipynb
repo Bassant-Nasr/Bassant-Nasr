{
 "cells": [
  {
   "cell_type": "markdown",
   "metadata": {},
   "source": [
    "\n",
    "# Project: Investigate a Dataset - [Now-Show-Appointments]\n",
    "\n",
    "## Table of Contents\n",
    "<ul>\n",
    "<li><a href=\"#intro\">Introduction</a></li>\n",
    "<li><a href=\"#wrangling\">Data Wrangling</a></li>\n",
    "<li><a href=\"#eda\">Exploratory Data Analysis</a></li>\n",
    "<li><a href=\"#conclusions\">Conclusions</a></li>\n",
    "</ul>"
   ]
  },
  {
   "cell_type": "markdown",
   "metadata": {},
   "source": [
    "<a id='intro'></a>\n",
    "## Introduction\n",
    "\n",
    "### Dataset Description \n",
    "\n",
    "Our data to investigate is no show appointments or (missed) appointments in some neighborhoods in Brazil, where the appointment took place. We have 14 columns in our dataset, which refers to the below:\n",
    "\n",
    "- PatientID, patient id recorded in the system.\n",
    "- AppointmentID, appointment code.\n",
    "- Gender, patient sex.\n",
    "- ScheduledDay, the registeration day via call for example.\n",
    "- AppointmentDay, the day when the patient supposed to visit.\n",
    "- Age, the age of patient.\n",
    "- Neighbourhood, the place where the visit is supposed to be taken in.\n",
    "- Scholarship, the \"*Bolsa Familia*\" governmental welfare program, it shows the patient enrollment status to this program (0 for not enrolled, 1 for enrolled) \n",
    "- Hipertension, the status of patient diagnosed with (0 for negative, 1 for positive)\n",
    "- Diabetes, the status of patient diagnosed with (0 for negative, 1 for positive)\n",
    "- Alcoholism, the status of patient diagnosed with (0 for negative, 1 for positive)\n",
    "- Handcap, the status of patient diagnosed with (0 for negative, 1 for positive)\n",
    "- SMS_received, the patient received how many messages from the neighborhood (1,2,3,4)\n",
    "- No-show, if the patient attended his appointment or not taking into the consideration the encoding here (No for attended, Yes for absent)\n",
    "\n",
    "\n",
    "### Question(s) for Analysis\n",
    "  - Which more, the missed or attended appointments\n",
    "  - Which month is the most frequent one in both sides, the absence and attendance\n",
    "  - Which day is the most frequent one in both sides, the absence and attendance\n",
    "  - Are enrolled patients in Bolsa Familia program the most attended or the vice versa\n",
    "  - Which gender that took the Brazilian welfare care among the neighborhoods\n",
    "  - Is there any relation between receiving SMS and showing in hospitals, by how?\n",
    "  - Which diagnosis occupy the high population in *Bolsa Familia* program\n",
    "  - What is the diagnosis of patients who keen to attend their appointments\n",
    "  - What is the average age patients enrolled or not_enrolled, and What is the diagnosis for this age\n",
    "  - What is the range of time gap, and which period is the peak\n",
    "  - Which gender is suffering from each diagnosis\n",
    "  - What are the most frequent (crowded) Neighborhood, top 3\n",
    "  - Is there any correlation between age and being diagnosed by specific disease\n",
    "  - What diagnosis that need more concentration from government, and in Which neighborhood"
   ]
  },
  {
   "cell_type": "code",
   "execution_count": 1,
   "metadata": {},
   "outputs": [],
   "source": [
    "'''importing the necessary libraries'''\n",
    "import numpy as np\n",
    "import pandas as pd\n",
    "import matplotlib.pyplot as plt\n",
    "%matplotlib inline\n",
    "import matplotlib.ticker as mtick\n",
    "import seaborn as sns\n",
    "sns.set_style('darkgrid')\n",
    "from datetime import datetime"
   ]
  },
  {
   "cell_type": "markdown",
   "metadata": {},
   "source": [
    "<a id='wrangling'></a>\n",
    "## Data Wrangling:"
   ]
  },
  {
   "cell_type": "markdown",
   "metadata": {},
   "source": [
    "## Gathering\n"
   ]
  },
  {
   "cell_type": "code",
   "execution_count": 2,
   "metadata": {},
   "outputs": [
    {
     "data": {
      "text/html": [
       "<div>\n",
       "<style scoped>\n",
       "    .dataframe tbody tr th:only-of-type {\n",
       "        vertical-align: middle;\n",
       "    }\n",
       "\n",
       "    .dataframe tbody tr th {\n",
       "        vertical-align: top;\n",
       "    }\n",
       "\n",
       "    .dataframe thead th {\n",
       "        text-align: right;\n",
       "    }\n",
       "</style>\n",
       "<table border=\"1\" class=\"dataframe\">\n",
       "  <thead>\n",
       "    <tr style=\"text-align: right;\">\n",
       "      <th></th>\n",
       "      <th>PatientId</th>\n",
       "      <th>AppointmentID</th>\n",
       "      <th>Gender</th>\n",
       "      <th>ScheduledDay</th>\n",
       "      <th>AppointmentDay</th>\n",
       "      <th>Age</th>\n",
       "      <th>Neighbourhood</th>\n",
       "      <th>Scholarship</th>\n",
       "      <th>Hipertension</th>\n",
       "      <th>Diabetes</th>\n",
       "      <th>Alcoholism</th>\n",
       "      <th>Handcap</th>\n",
       "      <th>SMS_received</th>\n",
       "      <th>No-show</th>\n",
       "    </tr>\n",
       "  </thead>\n",
       "  <tbody>\n",
       "    <tr>\n",
       "      <th>0</th>\n",
       "      <td>2.987250e+13</td>\n",
       "      <td>5642903</td>\n",
       "      <td>F</td>\n",
       "      <td>2016-04-29T18:38:08Z</td>\n",
       "      <td>2016-04-29T00:00:00Z</td>\n",
       "      <td>62</td>\n",
       "      <td>JARDIM DA PENHA</td>\n",
       "      <td>0</td>\n",
       "      <td>1</td>\n",
       "      <td>0</td>\n",
       "      <td>0</td>\n",
       "      <td>0</td>\n",
       "      <td>0</td>\n",
       "      <td>No</td>\n",
       "    </tr>\n",
       "    <tr>\n",
       "      <th>1</th>\n",
       "      <td>5.589978e+14</td>\n",
       "      <td>5642503</td>\n",
       "      <td>M</td>\n",
       "      <td>2016-04-29T16:08:27Z</td>\n",
       "      <td>2016-04-29T00:00:00Z</td>\n",
       "      <td>56</td>\n",
       "      <td>JARDIM DA PENHA</td>\n",
       "      <td>0</td>\n",
       "      <td>0</td>\n",
       "      <td>0</td>\n",
       "      <td>0</td>\n",
       "      <td>0</td>\n",
       "      <td>0</td>\n",
       "      <td>No</td>\n",
       "    </tr>\n",
       "    <tr>\n",
       "      <th>2</th>\n",
       "      <td>4.262962e+12</td>\n",
       "      <td>5642549</td>\n",
       "      <td>F</td>\n",
       "      <td>2016-04-29T16:19:04Z</td>\n",
       "      <td>2016-04-29T00:00:00Z</td>\n",
       "      <td>62</td>\n",
       "      <td>MATA DA PRAIA</td>\n",
       "      <td>0</td>\n",
       "      <td>0</td>\n",
       "      <td>0</td>\n",
       "      <td>0</td>\n",
       "      <td>0</td>\n",
       "      <td>0</td>\n",
       "      <td>No</td>\n",
       "    </tr>\n",
       "  </tbody>\n",
       "</table>\n",
       "</div>"
      ],
      "text/plain": [
       "      PatientId  AppointmentID Gender          ScheduledDay  \\\n",
       "0  2.987250e+13        5642903      F  2016-04-29T18:38:08Z   \n",
       "1  5.589978e+14        5642503      M  2016-04-29T16:08:27Z   \n",
       "2  4.262962e+12        5642549      F  2016-04-29T16:19:04Z   \n",
       "\n",
       "         AppointmentDay  Age    Neighbourhood  Scholarship  Hipertension  \\\n",
       "0  2016-04-29T00:00:00Z   62  JARDIM DA PENHA            0             1   \n",
       "1  2016-04-29T00:00:00Z   56  JARDIM DA PENHA            0             0   \n",
       "2  2016-04-29T00:00:00Z   62    MATA DA PRAIA            0             0   \n",
       "\n",
       "   Diabetes  Alcoholism  Handcap  SMS_received No-show  \n",
       "0         0           0        0             0      No  \n",
       "1         0           0        0             0      No  \n",
       "2         0           0        0             0      No  "
      ]
     },
     "execution_count": 2,
     "metadata": {},
     "output_type": "execute_result"
    }
   ],
   "source": [
    "'''upload the csv file to read'''\n",
    "show_stats= pd.read_csv('noshowappointments-kagglev2-may-2016.csv')\n",
    "\n",
    "'''Check that the file is well-imported.'''\n",
    "show_stats.head(3)"
   ]
  },
  {
   "cell_type": "markdown",
   "metadata": {},
   "source": [
    "## Assessing\n"
   ]
  },
  {
   "cell_type": "code",
   "execution_count": 3,
   "metadata": {},
   "outputs": [
    {
     "data": {
      "text/plain": [
       "(110527, 14)"
      ]
     },
     "execution_count": 3,
     "metadata": {},
     "output_type": "execute_result"
    }
   ],
   "source": [
    "'''know the dimension of data we have'''\n",
    "show_stats.shape"
   ]
  },
  {
   "cell_type": "code",
   "execution_count": 4,
   "metadata": {},
   "outputs": [
    {
     "data": {
      "text/html": [
       "<div>\n",
       "<style scoped>\n",
       "    .dataframe tbody tr th:only-of-type {\n",
       "        vertical-align: middle;\n",
       "    }\n",
       "\n",
       "    .dataframe tbody tr th {\n",
       "        vertical-align: top;\n",
       "    }\n",
       "\n",
       "    .dataframe thead th {\n",
       "        text-align: right;\n",
       "    }\n",
       "</style>\n",
       "<table border=\"1\" class=\"dataframe\">\n",
       "  <thead>\n",
       "    <tr style=\"text-align: right;\">\n",
       "      <th></th>\n",
       "      <th>PatientId</th>\n",
       "      <th>AppointmentID</th>\n",
       "      <th>Gender</th>\n",
       "      <th>ScheduledDay</th>\n",
       "      <th>AppointmentDay</th>\n",
       "      <th>Age</th>\n",
       "      <th>Neighbourhood</th>\n",
       "      <th>Scholarship</th>\n",
       "      <th>Hipertension</th>\n",
       "      <th>Diabetes</th>\n",
       "      <th>Alcoholism</th>\n",
       "      <th>Handcap</th>\n",
       "      <th>SMS_received</th>\n",
       "      <th>No-show</th>\n",
       "    </tr>\n",
       "  </thead>\n",
       "  <tbody>\n",
       "    <tr>\n",
       "      <th>97635</th>\n",
       "      <td>9.865199e+13</td>\n",
       "      <td>5700460</td>\n",
       "      <td>F</td>\n",
       "      <td>2016-05-16T09:28:22Z</td>\n",
       "      <td>2016-06-07T00:00:00Z</td>\n",
       "      <td>59</td>\n",
       "      <td>SANTO ANTÔNIO</td>\n",
       "      <td>0</td>\n",
       "      <td>0</td>\n",
       "      <td>0</td>\n",
       "      <td>0</td>\n",
       "      <td>0</td>\n",
       "      <td>1</td>\n",
       "      <td>No</td>\n",
       "    </tr>\n",
       "    <tr>\n",
       "      <th>55914</th>\n",
       "      <td>9.444243e+11</td>\n",
       "      <td>5640909</td>\n",
       "      <td>F</td>\n",
       "      <td>2016-04-29T11:41:53Z</td>\n",
       "      <td>2016-05-13T00:00:00Z</td>\n",
       "      <td>30</td>\n",
       "      <td>SANTO ANDRÉ</td>\n",
       "      <td>0</td>\n",
       "      <td>0</td>\n",
       "      <td>0</td>\n",
       "      <td>0</td>\n",
       "      <td>0</td>\n",
       "      <td>0</td>\n",
       "      <td>Yes</td>\n",
       "    </tr>\n",
       "    <tr>\n",
       "      <th>80373</th>\n",
       "      <td>7.313832e+12</td>\n",
       "      <td>5681722</td>\n",
       "      <td>F</td>\n",
       "      <td>2016-05-10T15:01:21Z</td>\n",
       "      <td>2016-05-12T00:00:00Z</td>\n",
       "      <td>56</td>\n",
       "      <td>MONTE BELO</td>\n",
       "      <td>0</td>\n",
       "      <td>0</td>\n",
       "      <td>0</td>\n",
       "      <td>0</td>\n",
       "      <td>0</td>\n",
       "      <td>0</td>\n",
       "      <td>No</td>\n",
       "    </tr>\n",
       "    <tr>\n",
       "      <th>230</th>\n",
       "      <td>5.954780e+14</td>\n",
       "      <td>5572635</td>\n",
       "      <td>F</td>\n",
       "      <td>2016-04-12T10:59:06Z</td>\n",
       "      <td>2016-04-29T00:00:00Z</td>\n",
       "      <td>52</td>\n",
       "      <td>ANDORINHAS</td>\n",
       "      <td>0</td>\n",
       "      <td>0</td>\n",
       "      <td>1</td>\n",
       "      <td>0</td>\n",
       "      <td>0</td>\n",
       "      <td>1</td>\n",
       "      <td>No</td>\n",
       "    </tr>\n",
       "    <tr>\n",
       "      <th>65481</th>\n",
       "      <td>5.813384e+11</td>\n",
       "      <td>5670493</td>\n",
       "      <td>F</td>\n",
       "      <td>2016-05-06T13:53:31Z</td>\n",
       "      <td>2016-05-06T00:00:00Z</td>\n",
       "      <td>13</td>\n",
       "      <td>JARDIM CAMBURI</td>\n",
       "      <td>0</td>\n",
       "      <td>0</td>\n",
       "      <td>0</td>\n",
       "      <td>0</td>\n",
       "      <td>0</td>\n",
       "      <td>0</td>\n",
       "      <td>No</td>\n",
       "    </tr>\n",
       "    <tr>\n",
       "      <th>84436</th>\n",
       "      <td>4.815581e+12</td>\n",
       "      <td>5713970</td>\n",
       "      <td>F</td>\n",
       "      <td>2016-05-18T11:03:34Z</td>\n",
       "      <td>2016-06-06T00:00:00Z</td>\n",
       "      <td>63</td>\n",
       "      <td>REPÚBLICA</td>\n",
       "      <td>0</td>\n",
       "      <td>0</td>\n",
       "      <td>0</td>\n",
       "      <td>0</td>\n",
       "      <td>0</td>\n",
       "      <td>1</td>\n",
       "      <td>No</td>\n",
       "    </tr>\n",
       "    <tr>\n",
       "      <th>79818</th>\n",
       "      <td>4.117440e+12</td>\n",
       "      <td>5646982</td>\n",
       "      <td>F</td>\n",
       "      <td>2016-05-02T12:22:47Z</td>\n",
       "      <td>2016-05-02T00:00:00Z</td>\n",
       "      <td>79</td>\n",
       "      <td>ILHA DAS CAIEIRAS</td>\n",
       "      <td>0</td>\n",
       "      <td>1</td>\n",
       "      <td>0</td>\n",
       "      <td>0</td>\n",
       "      <td>0</td>\n",
       "      <td>0</td>\n",
       "      <td>Yes</td>\n",
       "    </tr>\n",
       "    <tr>\n",
       "      <th>89840</th>\n",
       "      <td>5.479313e+13</td>\n",
       "      <td>5739083</td>\n",
       "      <td>F</td>\n",
       "      <td>2016-05-25T12:35:18Z</td>\n",
       "      <td>2016-06-02T00:00:00Z</td>\n",
       "      <td>56</td>\n",
       "      <td>JARDIM CAMBURI</td>\n",
       "      <td>0</td>\n",
       "      <td>0</td>\n",
       "      <td>0</td>\n",
       "      <td>0</td>\n",
       "      <td>0</td>\n",
       "      <td>1</td>\n",
       "      <td>No</td>\n",
       "    </tr>\n",
       "    <tr>\n",
       "      <th>28942</th>\n",
       "      <td>1.299999e+13</td>\n",
       "      <td>5714307</td>\n",
       "      <td>F</td>\n",
       "      <td>2016-05-18T11:42:16Z</td>\n",
       "      <td>2016-05-19T00:00:00Z</td>\n",
       "      <td>19</td>\n",
       "      <td>ROMÃO</td>\n",
       "      <td>0</td>\n",
       "      <td>0</td>\n",
       "      <td>0</td>\n",
       "      <td>0</td>\n",
       "      <td>0</td>\n",
       "      <td>0</td>\n",
       "      <td>No</td>\n",
       "    </tr>\n",
       "    <tr>\n",
       "      <th>18965</th>\n",
       "      <td>9.838636e+13</td>\n",
       "      <td>5698013</td>\n",
       "      <td>F</td>\n",
       "      <td>2016-05-16T07:09:33Z</td>\n",
       "      <td>2016-05-16T00:00:00Z</td>\n",
       "      <td>47</td>\n",
       "      <td>CRUZAMENTO</td>\n",
       "      <td>0</td>\n",
       "      <td>0</td>\n",
       "      <td>0</td>\n",
       "      <td>0</td>\n",
       "      <td>0</td>\n",
       "      <td>0</td>\n",
       "      <td>No</td>\n",
       "    </tr>\n",
       "  </tbody>\n",
       "</table>\n",
       "</div>"
      ],
      "text/plain": [
       "          PatientId  AppointmentID Gender          ScheduledDay  \\\n",
       "97635  9.865199e+13        5700460      F  2016-05-16T09:28:22Z   \n",
       "55914  9.444243e+11        5640909      F  2016-04-29T11:41:53Z   \n",
       "80373  7.313832e+12        5681722      F  2016-05-10T15:01:21Z   \n",
       "230    5.954780e+14        5572635      F  2016-04-12T10:59:06Z   \n",
       "65481  5.813384e+11        5670493      F  2016-05-06T13:53:31Z   \n",
       "84436  4.815581e+12        5713970      F  2016-05-18T11:03:34Z   \n",
       "79818  4.117440e+12        5646982      F  2016-05-02T12:22:47Z   \n",
       "89840  5.479313e+13        5739083      F  2016-05-25T12:35:18Z   \n",
       "28942  1.299999e+13        5714307      F  2016-05-18T11:42:16Z   \n",
       "18965  9.838636e+13        5698013      F  2016-05-16T07:09:33Z   \n",
       "\n",
       "             AppointmentDay  Age      Neighbourhood  Scholarship  \\\n",
       "97635  2016-06-07T00:00:00Z   59      SANTO ANTÔNIO            0   \n",
       "55914  2016-05-13T00:00:00Z   30        SANTO ANDRÉ            0   \n",
       "80373  2016-05-12T00:00:00Z   56         MONTE BELO            0   \n",
       "230    2016-04-29T00:00:00Z   52         ANDORINHAS            0   \n",
       "65481  2016-05-06T00:00:00Z   13     JARDIM CAMBURI            0   \n",
       "84436  2016-06-06T00:00:00Z   63          REPÚBLICA            0   \n",
       "79818  2016-05-02T00:00:00Z   79  ILHA DAS CAIEIRAS            0   \n",
       "89840  2016-06-02T00:00:00Z   56     JARDIM CAMBURI            0   \n",
       "28942  2016-05-19T00:00:00Z   19              ROMÃO            0   \n",
       "18965  2016-05-16T00:00:00Z   47         CRUZAMENTO            0   \n",
       "\n",
       "       Hipertension  Diabetes  Alcoholism  Handcap  SMS_received No-show  \n",
       "97635             0         0           0        0             1      No  \n",
       "55914             0         0           0        0             0     Yes  \n",
       "80373             0         0           0        0             0      No  \n",
       "230               0         1           0        0             1      No  \n",
       "65481             0         0           0        0             0      No  \n",
       "84436             0         0           0        0             1      No  \n",
       "79818             1         0           0        0             0     Yes  \n",
       "89840             0         0           0        0             1      No  \n",
       "28942             0         0           0        0             0      No  \n",
       "18965             0         0           0        0             0      No  "
      ]
     },
     "execution_count": 4,
     "metadata": {},
     "output_type": "execute_result"
    }
   ],
   "source": [
    "'''To have couple of samples of the dataset'''\n",
    "show_stats.sample(10)"
   ]
  },
  {
   "cell_type": "code",
   "execution_count": 5,
   "metadata": {},
   "outputs": [
    {
     "data": {
      "text/plain": [
       "PatientId         float64\n",
       "AppointmentID       int64\n",
       "Gender             object\n",
       "ScheduledDay       object\n",
       "AppointmentDay     object\n",
       "Age                 int64\n",
       "Neighbourhood      object\n",
       "Scholarship         int64\n",
       "Hipertension        int64\n",
       "Diabetes            int64\n",
       "Alcoholism          int64\n",
       "Handcap             int64\n",
       "SMS_received        int64\n",
       "No-show            object\n",
       "dtype: object"
      ]
     },
     "execution_count": 5,
     "metadata": {},
     "output_type": "execute_result"
    }
   ],
   "source": [
    "'''Illustrate the type of each column data'''\n",
    "show_stats.dtypes\n"
   ]
  },
  {
   "cell_type": "code",
   "execution_count": 6,
   "metadata": {},
   "outputs": [
    {
     "name": "stdout",
     "output_type": "stream",
     "text": [
      "<class 'pandas.core.frame.DataFrame'>\n",
      "RangeIndex: 110527 entries, 0 to 110526\n",
      "Data columns (total 14 columns):\n",
      " #   Column          Non-Null Count   Dtype  \n",
      "---  ------          --------------   -----  \n",
      " 0   PatientId       110527 non-null  float64\n",
      " 1   AppointmentID   110527 non-null  int64  \n",
      " 2   Gender          110527 non-null  object \n",
      " 3   ScheduledDay    110527 non-null  object \n",
      " 4   AppointmentDay  110527 non-null  object \n",
      " 5   Age             110527 non-null  int64  \n",
      " 6   Neighbourhood   110527 non-null  object \n",
      " 7   Scholarship     110527 non-null  int64  \n",
      " 8   Hipertension    110527 non-null  int64  \n",
      " 9   Diabetes        110527 non-null  int64  \n",
      " 10  Alcoholism      110527 non-null  int64  \n",
      " 11  Handcap         110527 non-null  int64  \n",
      " 12  SMS_received    110527 non-null  int64  \n",
      " 13  No-show         110527 non-null  object \n",
      "dtypes: float64(1), int64(8), object(5)\n",
      "memory usage: 11.8+ MB\n"
     ]
    }
   ],
   "source": [
    "'''To display a concise summary of the dataframe,including the number of non-null values in each column'''\n",
    "show_stats.info()"
   ]
  },
  {
   "cell_type": "markdown",
   "metadata": {},
   "source": [
    "- There is no missing data in the whole dataframe, which is pretty clean as a first observation"
   ]
  },
  {
   "cell_type": "code",
   "execution_count": 7,
   "metadata": {},
   "outputs": [
    {
     "data": {
      "text/plain": [
       "PatientId          62299\n",
       "AppointmentID     110527\n",
       "Gender                 2\n",
       "ScheduledDay      103549\n",
       "AppointmentDay        27\n",
       "Age                  104\n",
       "Neighbourhood         81\n",
       "Scholarship            2\n",
       "Hipertension           2\n",
       "Diabetes               2\n",
       "Alcoholism             2\n",
       "Handcap                5\n",
       "SMS_received           2\n",
       "No-show                2\n",
       "dtype: int64"
      ]
     },
     "execution_count": 7,
     "metadata": {},
     "output_type": "execute_result"
    }
   ],
   "source": [
    "'''Return the number of unique values in each column to eliminate any repetition of entried data'''\n",
    "show_stats.nunique()"
   ]
  },
  {
   "cell_type": "code",
   "execution_count": 8,
   "metadata": {},
   "outputs": [
    {
     "data": {
      "image/png": "[encoded data removed]",
      "text/plain": [
       "<Figure size 720x720 with 9 Axes>"
      ]
     },
     "metadata": {},
     "output_type": "display_data"
    }
   ],
   "source": [
    "'''Have an overall look at all the columns data'''\n",
    "show_stats.hist(figsize=(10,10));"
   ]
  },
  {
   "cell_type": "code",
   "execution_count": 9,
   "metadata": {},
   "outputs": [
    {
     "data": {
      "text/html": [
       "<div>\n",
       "<style scoped>\n",
       "    .dataframe tbody tr th:only-of-type {\n",
       "        vertical-align: middle;\n",
       "    }\n",
       "\n",
       "    .dataframe tbody tr th {\n",
       "        vertical-align: top;\n",
       "    }\n",
       "\n",
       "    .dataframe thead th {\n",
       "        text-align: right;\n",
       "    }\n",
       "</style>\n",
       "<table border=\"1\" class=\"dataframe\">\n",
       "  <thead>\n",
       "    <tr style=\"text-align: right;\">\n",
       "      <th></th>\n",
       "      <th>PatientId</th>\n",
       "      <th>AppointmentID</th>\n",
       "      <th>Age</th>\n",
       "      <th>Scholarship</th>\n",
       "      <th>Hipertension</th>\n",
       "      <th>Diabetes</th>\n",
       "      <th>Alcoholism</th>\n",
       "      <th>Handcap</th>\n",
       "      <th>SMS_received</th>\n",
       "    </tr>\n",
       "  </thead>\n",
       "  <tbody>\n",
       "    <tr>\n",
       "      <th>count</th>\n",
       "      <td>1.105270e+05</td>\n",
       "      <td>1.105270e+05</td>\n",
       "      <td>110527.000000</td>\n",
       "      <td>110527.000000</td>\n",
       "      <td>110527.000000</td>\n",
       "      <td>110527.000000</td>\n",
       "      <td>110527.000000</td>\n",
       "      <td>110527.000000</td>\n",
       "      <td>110527.000000</td>\n",
       "    </tr>\n",
       "    <tr>\n",
       "      <th>mean</th>\n",
       "      <td>1.474963e+14</td>\n",
       "      <td>5.675305e+06</td>\n",
       "      <td>37.088874</td>\n",
       "      <td>0.098266</td>\n",
       "      <td>0.197246</td>\n",
       "      <td>0.071865</td>\n",
       "      <td>0.030400</td>\n",
       "      <td>0.022248</td>\n",
       "      <td>0.321026</td>\n",
       "    </tr>\n",
       "    <tr>\n",
       "      <th>std</th>\n",
       "      <td>2.560949e+14</td>\n",
       "      <td>7.129575e+04</td>\n",
       "      <td>23.110205</td>\n",
       "      <td>0.297675</td>\n",
       "      <td>0.397921</td>\n",
       "      <td>0.258265</td>\n",
       "      <td>0.171686</td>\n",
       "      <td>0.161543</td>\n",
       "      <td>0.466873</td>\n",
       "    </tr>\n",
       "    <tr>\n",
       "      <th>min</th>\n",
       "      <td>3.921784e+04</td>\n",
       "      <td>5.030230e+06</td>\n",
       "      <td>-1.000000</td>\n",
       "      <td>0.000000</td>\n",
       "      <td>0.000000</td>\n",
       "      <td>0.000000</td>\n",
       "      <td>0.000000</td>\n",
       "      <td>0.000000</td>\n",
       "      <td>0.000000</td>\n",
       "    </tr>\n",
       "    <tr>\n",
       "      <th>25%</th>\n",
       "      <td>4.172614e+12</td>\n",
       "      <td>5.640286e+06</td>\n",
       "      <td>18.000000</td>\n",
       "      <td>0.000000</td>\n",
       "      <td>0.000000</td>\n",
       "      <td>0.000000</td>\n",
       "      <td>0.000000</td>\n",
       "      <td>0.000000</td>\n",
       "      <td>0.000000</td>\n",
       "    </tr>\n",
       "    <tr>\n",
       "      <th>50%</th>\n",
       "      <td>3.173184e+13</td>\n",
       "      <td>5.680573e+06</td>\n",
       "      <td>37.000000</td>\n",
       "      <td>0.000000</td>\n",
       "      <td>0.000000</td>\n",
       "      <td>0.000000</td>\n",
       "      <td>0.000000</td>\n",
       "      <td>0.000000</td>\n",
       "      <td>0.000000</td>\n",
       "    </tr>\n",
       "    <tr>\n",
       "      <th>75%</th>\n",
       "      <td>9.439172e+13</td>\n",
       "      <td>5.725524e+06</td>\n",
       "      <td>55.000000</td>\n",
       "      <td>0.000000</td>\n",
       "      <td>0.000000</td>\n",
       "      <td>0.000000</td>\n",
       "      <td>0.000000</td>\n",
       "      <td>0.000000</td>\n",
       "      <td>1.000000</td>\n",
       "    </tr>\n",
       "    <tr>\n",
       "      <th>max</th>\n",
       "      <td>9.999816e+14</td>\n",
       "      <td>5.790484e+06</td>\n",
       "      <td>115.000000</td>\n",
       "      <td>1.000000</td>\n",
       "      <td>1.000000</td>\n",
       "      <td>1.000000</td>\n",
       "      <td>1.000000</td>\n",
       "      <td>4.000000</td>\n",
       "      <td>1.000000</td>\n",
       "    </tr>\n",
       "  </tbody>\n",
       "</table>\n",
       "</div>"
      ],
      "text/plain": [
       "          PatientId  AppointmentID            Age    Scholarship  \\\n",
       "count  1.105270e+05   1.105270e+05  110527.000000  110527.000000   \n",
       "mean   1.474963e+14   5.675305e+06      37.088874       0.098266   \n",
       "std    2.560949e+14   7.129575e+04      23.110205       0.297675   \n",
       "min    3.921784e+04   5.030230e+06      -1.000000       0.000000   \n",
       "25%    4.172614e+12   5.640286e+06      18.000000       0.000000   \n",
       "50%    3.173184e+13   5.680573e+06      37.000000       0.000000   \n",
       "75%    9.439172e+13   5.725524e+06      55.000000       0.000000   \n",
       "max    9.999816e+14   5.790484e+06     115.000000       1.000000   \n",
       "\n",
       "        Hipertension       Diabetes     Alcoholism        Handcap  \\\n",
       "count  110527.000000  110527.000000  110527.000000  110527.000000   \n",
       "mean        0.197246       0.071865       0.030400       0.022248   \n",
       "std         0.397921       0.258265       0.171686       0.161543   \n",
       "min         0.000000       0.000000       0.000000       0.000000   \n",
       "25%         0.000000       0.000000       0.000000       0.000000   \n",
       "50%         0.000000       0.000000       0.000000       0.000000   \n",
       "75%         0.000000       0.000000       0.000000       0.000000   \n",
       "max         1.000000       1.000000       1.000000       4.000000   \n",
       "\n",
       "        SMS_received  \n",
       "count  110527.000000  \n",
       "mean        0.321026  \n",
       "std         0.466873  \n",
       "min         0.000000  \n",
       "25%         0.000000  \n",
       "50%         0.000000  \n",
       "75%         1.000000  \n",
       "max         1.000000  "
      ]
     },
     "execution_count": 9,
     "metadata": {},
     "output_type": "execute_result"
    }
   ],
   "source": [
    "'''Returning some useful descriptive statistics for each column of the whole dataset,to detect the tidiness or quality issues'''\n",
    "show_stats.describe()"
   ]
  },
  {
   "cell_type": "code",
   "execution_count": 10,
   "metadata": {},
   "outputs": [
    {
     "data": {
      "text/html": [
       "<div>\n",
       "<style scoped>\n",
       "    .dataframe tbody tr th:only-of-type {\n",
       "        vertical-align: middle;\n",
       "    }\n",
       "\n",
       "    .dataframe tbody tr th {\n",
       "        vertical-align: top;\n",
       "    }\n",
       "\n",
       "    .dataframe thead th {\n",
       "        text-align: right;\n",
       "    }\n",
       "</style>\n",
       "<table border=\"1\" class=\"dataframe\">\n",
       "  <thead>\n",
       "    <tr style=\"text-align: right;\">\n",
       "      <th></th>\n",
       "      <th>PatientId</th>\n",
       "      <th>AppointmentID</th>\n",
       "      <th>Gender</th>\n",
       "      <th>ScheduledDay</th>\n",
       "      <th>AppointmentDay</th>\n",
       "      <th>Age</th>\n",
       "      <th>Neighbourhood</th>\n",
       "      <th>Scholarship</th>\n",
       "      <th>Hipertension</th>\n",
       "      <th>Diabetes</th>\n",
       "      <th>Alcoholism</th>\n",
       "      <th>Handcap</th>\n",
       "      <th>SMS_received</th>\n",
       "      <th>No-show</th>\n",
       "    </tr>\n",
       "  </thead>\n",
       "  <tbody>\n",
       "    <tr>\n",
       "      <th>63912</th>\n",
       "      <td>3.196321e+13</td>\n",
       "      <td>5700278</td>\n",
       "      <td>F</td>\n",
       "      <td>2016-05-16T09:17:44Z</td>\n",
       "      <td>2016-05-19T00:00:00Z</td>\n",
       "      <td>115</td>\n",
       "      <td>ANDORINHAS</td>\n",
       "      <td>0</td>\n",
       "      <td>0</td>\n",
       "      <td>0</td>\n",
       "      <td>0</td>\n",
       "      <td>1</td>\n",
       "      <td>0</td>\n",
       "      <td>Yes</td>\n",
       "    </tr>\n",
       "    <tr>\n",
       "      <th>63915</th>\n",
       "      <td>3.196321e+13</td>\n",
       "      <td>5700279</td>\n",
       "      <td>F</td>\n",
       "      <td>2016-05-16T09:17:44Z</td>\n",
       "      <td>2016-05-19T00:00:00Z</td>\n",
       "      <td>115</td>\n",
       "      <td>ANDORINHAS</td>\n",
       "      <td>0</td>\n",
       "      <td>0</td>\n",
       "      <td>0</td>\n",
       "      <td>0</td>\n",
       "      <td>1</td>\n",
       "      <td>0</td>\n",
       "      <td>Yes</td>\n",
       "    </tr>\n",
       "    <tr>\n",
       "      <th>68127</th>\n",
       "      <td>3.196321e+13</td>\n",
       "      <td>5562812</td>\n",
       "      <td>F</td>\n",
       "      <td>2016-04-08T14:29:17Z</td>\n",
       "      <td>2016-05-16T00:00:00Z</td>\n",
       "      <td>115</td>\n",
       "      <td>ANDORINHAS</td>\n",
       "      <td>0</td>\n",
       "      <td>0</td>\n",
       "      <td>0</td>\n",
       "      <td>0</td>\n",
       "      <td>1</td>\n",
       "      <td>0</td>\n",
       "      <td>Yes</td>\n",
       "    </tr>\n",
       "    <tr>\n",
       "      <th>76284</th>\n",
       "      <td>3.196321e+13</td>\n",
       "      <td>5744037</td>\n",
       "      <td>F</td>\n",
       "      <td>2016-05-30T09:44:51Z</td>\n",
       "      <td>2016-05-30T00:00:00Z</td>\n",
       "      <td>115</td>\n",
       "      <td>ANDORINHAS</td>\n",
       "      <td>0</td>\n",
       "      <td>0</td>\n",
       "      <td>0</td>\n",
       "      <td>0</td>\n",
       "      <td>1</td>\n",
       "      <td>0</td>\n",
       "      <td>No</td>\n",
       "    </tr>\n",
       "    <tr>\n",
       "      <th>97666</th>\n",
       "      <td>7.482346e+14</td>\n",
       "      <td>5717451</td>\n",
       "      <td>F</td>\n",
       "      <td>2016-05-19T07:57:56Z</td>\n",
       "      <td>2016-06-03T00:00:00Z</td>\n",
       "      <td>115</td>\n",
       "      <td>SÃO JOSÉ</td>\n",
       "      <td>0</td>\n",
       "      <td>1</td>\n",
       "      <td>0</td>\n",
       "      <td>0</td>\n",
       "      <td>0</td>\n",
       "      <td>1</td>\n",
       "      <td>No</td>\n",
       "    </tr>\n",
       "  </tbody>\n",
       "</table>\n",
       "</div>"
      ],
      "text/plain": [
       "          PatientId  AppointmentID Gender          ScheduledDay  \\\n",
       "63912  3.196321e+13        5700278      F  2016-05-16T09:17:44Z   \n",
       "63915  3.196321e+13        5700279      F  2016-05-16T09:17:44Z   \n",
       "68127  3.196321e+13        5562812      F  2016-04-08T14:29:17Z   \n",
       "76284  3.196321e+13        5744037      F  2016-05-30T09:44:51Z   \n",
       "97666  7.482346e+14        5717451      F  2016-05-19T07:57:56Z   \n",
       "\n",
       "             AppointmentDay  Age Neighbourhood  Scholarship  Hipertension  \\\n",
       "63912  2016-05-19T00:00:00Z  115    ANDORINHAS            0             0   \n",
       "63915  2016-05-19T00:00:00Z  115    ANDORINHAS            0             0   \n",
       "68127  2016-05-16T00:00:00Z  115    ANDORINHAS            0             0   \n",
       "76284  2016-05-30T00:00:00Z  115    ANDORINHAS            0             0   \n",
       "97666  2016-06-03T00:00:00Z  115      SÃO JOSÉ            0             1   \n",
       "\n",
       "       Diabetes  Alcoholism  Handcap  SMS_received No-show  \n",
       "63912         0           0        1             0     Yes  \n",
       "63915         0           0        1             0     Yes  \n",
       "68127         0           0        1             0     Yes  \n",
       "76284         0           0        1             0      No  \n",
       "97666         0           0        0             1      No  "
      ]
     },
     "execution_count": 10,
     "metadata": {},
     "output_type": "execute_result"
    }
   ],
   "source": [
    "'''Filtering the age with the max to have a close look, checking the quality (validity) issue'''\n",
    "show_stats[show_stats['Age'] == 115]"
   ]
  },
  {
   "cell_type": "markdown",
   "metadata": {},
   "source": [
    "- Only two people with that high age, which can be kept\n",
    "as it's valid to the world schema in a country as Brazil"
   ]
  },
  {
   "cell_type": "code",
   "execution_count": 11,
   "metadata": {},
   "outputs": [
    {
     "data": {
      "image/png": "[encoded data removed]",
      "text/plain": [
       "<Figure size 432x288 with 1 Axes>"
      ]
     },
     "metadata": {},
     "output_type": "display_data"
    }
   ],
   "source": [
    "'''Distinguish the Age range in the dataset we have'''\n",
    "show_stats['Age'].hist();"
   ]
  },
  {
   "cell_type": "code",
   "execution_count": 12,
   "metadata": {},
   "outputs": [
    {
     "data": {
      "text/html": [
       "<div>\n",
       "<style scoped>\n",
       "    .dataframe tbody tr th:only-of-type {\n",
       "        vertical-align: middle;\n",
       "    }\n",
       "\n",
       "    .dataframe tbody tr th {\n",
       "        vertical-align: top;\n",
       "    }\n",
       "\n",
       "    .dataframe thead th {\n",
       "        text-align: right;\n",
       "    }\n",
       "</style>\n",
       "<table border=\"1\" class=\"dataframe\">\n",
       "  <thead>\n",
       "    <tr style=\"text-align: right;\">\n",
       "      <th></th>\n",
       "      <th>PatientId</th>\n",
       "      <th>AppointmentID</th>\n",
       "      <th>Gender</th>\n",
       "      <th>ScheduledDay</th>\n",
       "      <th>AppointmentDay</th>\n",
       "      <th>Age</th>\n",
       "      <th>Neighbourhood</th>\n",
       "      <th>Scholarship</th>\n",
       "      <th>Hipertension</th>\n",
       "      <th>Diabetes</th>\n",
       "      <th>Alcoholism</th>\n",
       "      <th>Handcap</th>\n",
       "      <th>SMS_received</th>\n",
       "      <th>No-show</th>\n",
       "    </tr>\n",
       "  </thead>\n",
       "  <tbody>\n",
       "    <tr>\n",
       "      <th>59</th>\n",
       "      <td>7.184428e+13</td>\n",
       "      <td>5638545</td>\n",
       "      <td>F</td>\n",
       "      <td>2016-04-29T08:08:43Z</td>\n",
       "      <td>2016-04-29T00:00:00Z</td>\n",
       "      <td>0</td>\n",
       "      <td>CONQUISTA</td>\n",
       "      <td>0</td>\n",
       "      <td>0</td>\n",
       "      <td>0</td>\n",
       "      <td>0</td>\n",
       "      <td>0</td>\n",
       "      <td>0</td>\n",
       "      <td>No</td>\n",
       "    </tr>\n",
       "    <tr>\n",
       "      <th>63</th>\n",
       "      <td>2.366233e+14</td>\n",
       "      <td>5628286</td>\n",
       "      <td>M</td>\n",
       "      <td>2016-04-27T10:46:12Z</td>\n",
       "      <td>2016-04-29T00:00:00Z</td>\n",
       "      <td>0</td>\n",
       "      <td>SÃO BENEDITO</td>\n",
       "      <td>0</td>\n",
       "      <td>0</td>\n",
       "      <td>0</td>\n",
       "      <td>0</td>\n",
       "      <td>0</td>\n",
       "      <td>0</td>\n",
       "      <td>No</td>\n",
       "    </tr>\n",
       "    <tr>\n",
       "      <th>64</th>\n",
       "      <td>1.885174e+14</td>\n",
       "      <td>5616082</td>\n",
       "      <td>M</td>\n",
       "      <td>2016-04-25T13:28:21Z</td>\n",
       "      <td>2016-04-29T00:00:00Z</td>\n",
       "      <td>0</td>\n",
       "      <td>ILHA DAS CAIEIRAS</td>\n",
       "      <td>0</td>\n",
       "      <td>0</td>\n",
       "      <td>0</td>\n",
       "      <td>0</td>\n",
       "      <td>0</td>\n",
       "      <td>1</td>\n",
       "      <td>No</td>\n",
       "    </tr>\n",
       "    <tr>\n",
       "      <th>65</th>\n",
       "      <td>2.718818e+14</td>\n",
       "      <td>5628321</td>\n",
       "      <td>M</td>\n",
       "      <td>2016-04-27T10:48:50Z</td>\n",
       "      <td>2016-04-29T00:00:00Z</td>\n",
       "      <td>0</td>\n",
       "      <td>CONQUISTA</td>\n",
       "      <td>0</td>\n",
       "      <td>0</td>\n",
       "      <td>0</td>\n",
       "      <td>0</td>\n",
       "      <td>0</td>\n",
       "      <td>0</td>\n",
       "      <td>No</td>\n",
       "    </tr>\n",
       "    <tr>\n",
       "      <th>67</th>\n",
       "      <td>8.647128e+13</td>\n",
       "      <td>5639264</td>\n",
       "      <td>F</td>\n",
       "      <td>2016-04-29T08:53:02Z</td>\n",
       "      <td>2016-04-29T00:00:00Z</td>\n",
       "      <td>0</td>\n",
       "      <td>NOVA PALESTINA</td>\n",
       "      <td>0</td>\n",
       "      <td>0</td>\n",
       "      <td>0</td>\n",
       "      <td>0</td>\n",
       "      <td>0</td>\n",
       "      <td>0</td>\n",
       "      <td>No</td>\n",
       "    </tr>\n",
       "    <tr>\n",
       "      <th>...</th>\n",
       "      <td>...</td>\n",
       "      <td>...</td>\n",
       "      <td>...</td>\n",
       "      <td>...</td>\n",
       "      <td>...</td>\n",
       "      <td>...</td>\n",
       "      <td>...</td>\n",
       "      <td>...</td>\n",
       "      <td>...</td>\n",
       "      <td>...</td>\n",
       "      <td>...</td>\n",
       "      <td>...</td>\n",
       "      <td>...</td>\n",
       "      <td>...</td>\n",
       "    </tr>\n",
       "    <tr>\n",
       "      <th>110345</th>\n",
       "      <td>1.473952e+14</td>\n",
       "      <td>5702537</td>\n",
       "      <td>F</td>\n",
       "      <td>2016-05-16T12:30:58Z</td>\n",
       "      <td>2016-06-01T00:00:00Z</td>\n",
       "      <td>0</td>\n",
       "      <td>RESISTÊNCIA</td>\n",
       "      <td>0</td>\n",
       "      <td>0</td>\n",
       "      <td>0</td>\n",
       "      <td>0</td>\n",
       "      <td>0</td>\n",
       "      <td>0</td>\n",
       "      <td>No</td>\n",
       "    </tr>\n",
       "    <tr>\n",
       "      <th>110346</th>\n",
       "      <td>5.577525e+12</td>\n",
       "      <td>5777724</td>\n",
       "      <td>M</td>\n",
       "      <td>2016-06-06T14:22:34Z</td>\n",
       "      <td>2016-06-08T00:00:00Z</td>\n",
       "      <td>0</td>\n",
       "      <td>RESISTÊNCIA</td>\n",
       "      <td>0</td>\n",
       "      <td>0</td>\n",
       "      <td>0</td>\n",
       "      <td>0</td>\n",
       "      <td>0</td>\n",
       "      <td>0</td>\n",
       "      <td>No</td>\n",
       "    </tr>\n",
       "    <tr>\n",
       "      <th>110454</th>\n",
       "      <td>6.142460e+11</td>\n",
       "      <td>5772400</td>\n",
       "      <td>F</td>\n",
       "      <td>2016-06-03T15:18:44Z</td>\n",
       "      <td>2016-06-03T00:00:00Z</td>\n",
       "      <td>0</td>\n",
       "      <td>RESISTÊNCIA</td>\n",
       "      <td>0</td>\n",
       "      <td>0</td>\n",
       "      <td>0</td>\n",
       "      <td>0</td>\n",
       "      <td>0</td>\n",
       "      <td>0</td>\n",
       "      <td>No</td>\n",
       "    </tr>\n",
       "    <tr>\n",
       "      <th>110460</th>\n",
       "      <td>4.321846e+13</td>\n",
       "      <td>5769545</td>\n",
       "      <td>F</td>\n",
       "      <td>2016-06-03T08:56:51Z</td>\n",
       "      <td>2016-06-03T00:00:00Z</td>\n",
       "      <td>0</td>\n",
       "      <td>RESISTÊNCIA</td>\n",
       "      <td>0</td>\n",
       "      <td>0</td>\n",
       "      <td>0</td>\n",
       "      <td>0</td>\n",
       "      <td>0</td>\n",
       "      <td>0</td>\n",
       "      <td>No</td>\n",
       "    </tr>\n",
       "    <tr>\n",
       "      <th>110507</th>\n",
       "      <td>4.769462e+14</td>\n",
       "      <td>5786918</td>\n",
       "      <td>F</td>\n",
       "      <td>2016-06-08T09:04:18Z</td>\n",
       "      <td>2016-06-08T00:00:00Z</td>\n",
       "      <td>0</td>\n",
       "      <td>MARIA ORTIZ</td>\n",
       "      <td>0</td>\n",
       "      <td>0</td>\n",
       "      <td>0</td>\n",
       "      <td>0</td>\n",
       "      <td>0</td>\n",
       "      <td>0</td>\n",
       "      <td>No</td>\n",
       "    </tr>\n",
       "  </tbody>\n",
       "</table>\n",
       "<p>3540 rows × 14 columns</p>\n",
       "</div>"
      ],
      "text/plain": [
       "           PatientId  AppointmentID Gender          ScheduledDay  \\\n",
       "59      7.184428e+13        5638545      F  2016-04-29T08:08:43Z   \n",
       "63      2.366233e+14        5628286      M  2016-04-27T10:46:12Z   \n",
       "64      1.885174e+14        5616082      M  2016-04-25T13:28:21Z   \n",
       "65      2.718818e+14        5628321      M  2016-04-27T10:48:50Z   \n",
       "67      8.647128e+13        5639264      F  2016-04-29T08:53:02Z   \n",
       "...              ...            ...    ...                   ...   \n",
       "110345  1.473952e+14        5702537      F  2016-05-16T12:30:58Z   \n",
       "110346  5.577525e+12        5777724      M  2016-06-06T14:22:34Z   \n",
       "110454  6.142460e+11        5772400      F  2016-06-03T15:18:44Z   \n",
       "110460  4.321846e+13        5769545      F  2016-06-03T08:56:51Z   \n",
       "110507  4.769462e+14        5786918      F  2016-06-08T09:04:18Z   \n",
       "\n",
       "              AppointmentDay  Age      Neighbourhood  Scholarship  \\\n",
       "59      2016-04-29T00:00:00Z    0          CONQUISTA            0   \n",
       "63      2016-04-29T00:00:00Z    0       SÃO BENEDITO            0   \n",
       "64      2016-04-29T00:00:00Z    0  ILHA DAS CAIEIRAS            0   \n",
       "65      2016-04-29T00:00:00Z    0          CONQUISTA            0   \n",
       "67      2016-04-29T00:00:00Z    0     NOVA PALESTINA            0   \n",
       "...                      ...  ...                ...          ...   \n",
       "110345  2016-06-01T00:00:00Z    0        RESISTÊNCIA            0   \n",
       "110346  2016-06-08T00:00:00Z    0        RESISTÊNCIA            0   \n",
       "110454  2016-06-03T00:00:00Z    0        RESISTÊNCIA            0   \n",
       "110460  2016-06-03T00:00:00Z    0        RESISTÊNCIA            0   \n",
       "110507  2016-06-08T00:00:00Z    0        MARIA ORTIZ            0   \n",
       "\n",
       "        Hipertension  Diabetes  Alcoholism  Handcap  SMS_received No-show  \n",
       "59                 0         0           0        0             0      No  \n",
       "63                 0         0           0        0             0      No  \n",
       "64                 0         0           0        0             1      No  \n",
       "65                 0         0           0        0             0      No  \n",
       "67                 0         0           0        0             0      No  \n",
       "...              ...       ...         ...      ...           ...     ...  \n",
       "110345             0         0           0        0             0      No  \n",
       "110346             0         0           0        0             0      No  \n",
       "110454             0         0           0        0             0      No  \n",
       "110460             0         0           0        0             0      No  \n",
       "110507             0         0           0        0             0      No  \n",
       "\n",
       "[3540 rows x 14 columns]"
      ]
     },
     "execution_count": 12,
     "metadata": {},
     "output_type": "execute_result"
    }
   ],
   "source": [
    "'''Slicing the Age column to detect invalid data'''\n",
    "show_stats[show_stats.Age<=0]"
   ]
  },
  {
   "cell_type": "code",
   "execution_count": 13,
   "metadata": {},
   "outputs": [
    {
     "name": "stdout",
     "output_type": "stream",
     "text": [
      "['JARDIM DA PENHA']\n",
      "['MATA DA PRAIA']\n",
      "['PONTAL DE CAMBURI']\n",
      "['REPÚBLICA']\n",
      "['GOIABEIRAS']\n",
      "['ANDORINHAS']\n",
      "['CONQUISTA']\n",
      "['NOVA PALESTINA']\n",
      "['DA PENHA']\n",
      "['TABUAZEIRO']\n",
      "['BENTO FERREIRA']\n",
      "['SÃO PEDRO']\n",
      "['SANTA MARTHA']\n",
      "['SÃO CRISTÓVÃO']\n",
      "['MARUÍPE']\n",
      "['GRANDE VITÓRIA']\n",
      "['SÃO BENEDITO']\n",
      "['ILHA DAS CAIEIRAS']\n",
      "['SANTO ANDRÉ']\n",
      "['SOLON BORGES']\n",
      "['BONFIM']\n",
      "['JARDIM CAMBURI']\n",
      "['MARIA ORTIZ']\n",
      "['JABOUR']\n",
      "['ANTÔNIO HONÓRIO']\n",
      "['RESISTÊNCIA']\n",
      "['ILHA DE SANTA MARIA']\n",
      "['JUCUTUQUARA']\n",
      "['MONTE BELO']\n",
      "['MÁRIO CYPRESTE']\n",
      "['SANTO ANTÔNIO']\n",
      "['BELA VISTA']\n",
      "['PRAIA DO SUÁ']\n",
      "['SANTA HELENA']\n",
      "['ITARARÉ']\n",
      "['INHANGUETÁ']\n",
      "['UNIVERSITÁRIO']\n",
      "['SÃO JOSÉ']\n",
      "['REDENÇÃO']\n",
      "['SANTA CLARA']\n",
      "['CENTRO']\n",
      "['PARQUE MOSCOSO']\n",
      "['DO MOSCOSO']\n",
      "['SANTOS DUMONT']\n",
      "['CARATOÍRA']\n",
      "['ARIOVALDO FAVALESSA']\n",
      "['ILHA DO FRADE']\n",
      "['GURIGICA']\n",
      "['JOANA D´ARC']\n",
      "['CONSOLAÇÃO']\n",
      "['PRAIA DO CANTO']\n",
      "['BOA VISTA']\n",
      "['MORADA DE CAMBURI']\n",
      "['SANTA LUÍZA']\n",
      "['SANTA LÚCIA']\n",
      "['BARRO VERMELHO']\n",
      "['ESTRELINHA']\n",
      "['FORTE SÃO JOÃO']\n",
      "['FONTE GRANDE']\n",
      "['ENSEADA DO SUÁ']\n",
      "['SANTOS REIS']\n",
      "['PIEDADE']\n",
      "['JESUS DE NAZARETH']\n",
      "['SANTA TEREZA']\n",
      "['CRUZAMENTO']\n",
      "['ILHA DO PRÍNCIPE']\n",
      "['ROMÃO']\n",
      "['COMDUSA']\n",
      "['SANTA CECÍLIA']\n",
      "['VILA RUBIM']\n",
      "['DE LOURDES']\n",
      "['DO QUADRO']\n",
      "['DO CABRAL']\n",
      "['HORTO']\n",
      "['SEGURANÇA DO LAR']\n",
      "['ILHA DO BOI']\n",
      "['FRADINHOS']\n",
      "['NAZARETH']\n",
      "['AEROPORTO']\n",
      "['ILHAS OCEÂNICAS DE TRINDADE']\n",
      "['PARQUE INDUSTRIAL']\n"
     ]
    }
   ],
   "source": [
    "'''Printing the unique neighbourhood to observe if there is any quality (consistency) issue'''\n",
    "for i in show_stats.Neighbourhood.unique():\n",
    "    print([i])"
   ]
  },
  {
   "cell_type": "code",
   "execution_count": 14,
   "metadata": {},
   "outputs": [
    {
     "data": {
      "text/plain": [
       "SMS_received  Handcap\n",
       "0             0          73340\n",
       "              1           1553\n",
       "              2            140\n",
       "              3             10\n",
       "              4              2\n",
       "1             0          34946\n",
       "              1            489\n",
       "              2             43\n",
       "              3              3\n",
       "              4              1\n",
       "Name: Handcap, dtype: int64"
      ]
     },
     "execution_count": 14,
     "metadata": {},
     "output_type": "execute_result"
    }
   ],
   "source": [
    "'''Groupby the data counts based on SMS_received, and Handcap values_counts'''\n",
    "show_stats.groupby('SMS_received')['Handcap'].value_counts()"
   ]
  },
  {
   "cell_type": "markdown",
   "metadata": {},
   "source": [
    "- Pretty obvious that the column values are swapped with each other since the dataset built to show\n",
    "how many messages sent to the patient in SMS_received column"
   ]
  },
  {
   "cell_type": "markdown",
   "metadata": {},
   "source": [
    "\n",
    "### Data Cleaning\n",
    "> **Tip**: Make sure that you keep your reader informed on the steps that you are taking in your investigation. Follow every code cell, or every set of related code cells, with a markdown cell to describe to the reader what was found in the preceding cell(s). Try to make it so that the reader can then understand what they will be seeing in the following cell(s).\n",
    " "
   ]
  },
  {
   "cell_type": "code",
   "execution_count": 15,
   "metadata": {},
   "outputs": [
    {
     "data": {
      "text/html": [
       "<div>\n",
       "<style scoped>\n",
       "    .dataframe tbody tr th:only-of-type {\n",
       "        vertical-align: middle;\n",
       "    }\n",
       "\n",
       "    .dataframe tbody tr th {\n",
       "        vertical-align: top;\n",
       "    }\n",
       "\n",
       "    .dataframe thead th {\n",
       "        text-align: right;\n",
       "    }\n",
       "</style>\n",
       "<table border=\"1\" class=\"dataframe\">\n",
       "  <thead>\n",
       "    <tr style=\"text-align: right;\">\n",
       "      <th></th>\n",
       "      <th>PatientId</th>\n",
       "      <th>AppointmentID</th>\n",
       "      <th>Gender</th>\n",
       "      <th>ScheduledDay</th>\n",
       "      <th>AppointmentDay</th>\n",
       "      <th>Age</th>\n",
       "      <th>Neighbourhood</th>\n",
       "      <th>Scholarship</th>\n",
       "      <th>Hipertension</th>\n",
       "      <th>Diabetes</th>\n",
       "      <th>Alcoholism</th>\n",
       "      <th>Handcap</th>\n",
       "      <th>SMS_received</th>\n",
       "      <th>No-show</th>\n",
       "    </tr>\n",
       "  </thead>\n",
       "  <tbody>\n",
       "    <tr>\n",
       "      <th>0</th>\n",
       "      <td>2.987250e+13</td>\n",
       "      <td>5642903</td>\n",
       "      <td>F</td>\n",
       "      <td>2016-04-29T18:38:08Z</td>\n",
       "      <td>2016-04-29T00:00:00Z</td>\n",
       "      <td>62</td>\n",
       "      <td>JARDIM DA PENHA</td>\n",
       "      <td>0</td>\n",
       "      <td>1</td>\n",
       "      <td>0</td>\n",
       "      <td>0</td>\n",
       "      <td>0</td>\n",
       "      <td>0</td>\n",
       "      <td>No</td>\n",
       "    </tr>\n",
       "  </tbody>\n",
       "</table>\n",
       "</div>"
      ],
      "text/plain": [
       "      PatientId  AppointmentID Gender          ScheduledDay  \\\n",
       "0  2.987250e+13        5642903      F  2016-04-29T18:38:08Z   \n",
       "\n",
       "         AppointmentDay  Age    Neighbourhood  Scholarship  Hipertension  \\\n",
       "0  2016-04-29T00:00:00Z   62  JARDIM DA PENHA            0             1   \n",
       "\n",
       "   Diabetes  Alcoholism  Handcap  SMS_received No-show  \n",
       "0         0           0        0             0      No  "
      ]
     },
     "execution_count": 15,
     "metadata": {},
     "output_type": "execute_result"
    }
   ],
   "source": [
    "'''Copying the original dataset to apply the cleaning process on'''\n",
    "show_stats_clean=show_stats.copy()\n",
    "'''Check if changes are applied'''\n",
    "show_stats_clean.head(1)"
   ]
  },
  {
   "cell_type": "markdown",
   "metadata": {},
   "source": [
    "- Copying the dataset to be able to apply any changes for the sake of cleaning it."
   ]
  },
  {
   "cell_type": "code",
   "execution_count": 16,
   "metadata": {},
   "outputs": [],
   "source": [
    "'''Make one criteria in the whole dataset columns names to be lowercased for easy going-through'''\n",
    "show_stats_clean.rename(columns= lambda x: x.strip().lower(), inplace=True)"
   ]
  },
  {
   "cell_type": "code",
   "execution_count": 17,
   "metadata": {},
   "outputs": [],
   "source": [
    "'''Rename the columns with the right spelling and eliminate any complications,\n",
    " taking into the consideration that we need to replace the handicap column with sms_received as the values are swapped'''\n",
    "\n",
    "show_stats_clean.rename(columns={'patientid':'patient_id',\n",
    "                              'appointmentid':'appointment_id',\n",
    "                              'scheduledday':'scheduled_day',\n",
    "                              'appointmentday':'appointment_day',\n",
    "                              'scholarship':'welfare_program',\n",
    "                              'hipertension':'hypertension',\n",
    "                              'handcap':'sms_received',\n",
    "                              'no-show':'no_show',\n",
    "                              'neighbourhood':'neighborhood',\n",
    "                              'sms_received':'handicap'}, inplace=True)"
   ]
  },
  {
   "cell_type": "code",
   "execution_count": 18,
   "metadata": {},
   "outputs": [
    {
     "data": {
      "text/html": [
       "<div>\n",
       "<style scoped>\n",
       "    .dataframe tbody tr th:only-of-type {\n",
       "        vertical-align: middle;\n",
       "    }\n",
       "\n",
       "    .dataframe tbody tr th {\n",
       "        vertical-align: top;\n",
       "    }\n",
       "\n",
       "    .dataframe thead th {\n",
       "        text-align: right;\n",
       "    }\n",
       "</style>\n",
       "<table border=\"1\" class=\"dataframe\">\n",
       "  <thead>\n",
       "    <tr style=\"text-align: right;\">\n",
       "      <th></th>\n",
       "      <th>patient_id</th>\n",
       "      <th>appointment_id</th>\n",
       "      <th>gender</th>\n",
       "      <th>scheduled_day</th>\n",
       "      <th>appointment_day</th>\n",
       "      <th>age</th>\n",
       "      <th>neighborhood</th>\n",
       "      <th>welfare_program</th>\n",
       "      <th>hypertension</th>\n",
       "      <th>diabetes</th>\n",
       "      <th>alcoholism</th>\n",
       "      <th>sms_received</th>\n",
       "      <th>handicap</th>\n",
       "      <th>no_show</th>\n",
       "    </tr>\n",
       "  </thead>\n",
       "  <tbody>\n",
       "  </tbody>\n",
       "</table>\n",
       "</div>"
      ],
      "text/plain": [
       "Empty DataFrame\n",
       "Columns: [patient_id, appointment_id, gender, scheduled_day, appointment_day, age, neighborhood, welfare_program, hypertension, diabetes, alcoholism, sms_received, handicap, no_show]\n",
       "Index: []"
      ]
     },
     "execution_count": 18,
     "metadata": {},
     "output_type": "execute_result"
    }
   ],
   "source": [
    "'''Check the changes'''\n",
    "show_stats_clean.head(0)"
   ]
  },
  {
   "cell_type": "code",
   "execution_count": 19,
   "metadata": {},
   "outputs": [
    {
     "data": {
      "text/plain": [
       "0    108286\n",
       "1      2042\n",
       "2       183\n",
       "3        13\n",
       "4         3\n",
       "Name: sms_received, dtype: int64"
      ]
     },
     "execution_count": 19,
     "metadata": {},
     "output_type": "execute_result"
    }
   ],
   "source": [
    "'''Check that the values of handicap are in the right column name'''\n",
    "show_stats_clean.sms_received.value_counts()"
   ]
  },
  {
   "cell_type": "markdown",
   "metadata": {},
   "source": [
    "- Change the columns names with standariozed, right spelled, in place (reverse the name of each swapped \"sms_received\" with \"handicap\") at once for clear interpretation"
   ]
  },
  {
   "cell_type": "code",
   "execution_count": 20,
   "metadata": {},
   "outputs": [],
   "source": [
    "'''Converting the 0s,and -1 in age column to be nan'''\n",
    "show_stats_clean.age=show_stats_clean.age.replace([0,-1],np.nan)"
   ]
  },
  {
   "cell_type": "code",
   "execution_count": 21,
   "metadata": {},
   "outputs": [],
   "source": [
    "'''Drop the null records'''\n",
    "show_stats_clean.dropna(inplace=True)"
   ]
  },
  {
   "cell_type": "code",
   "execution_count": 22,
   "metadata": {},
   "outputs": [
    {
     "data": {
      "text/plain": [
       "False"
      ]
     },
     "execution_count": 22,
     "metadata": {},
     "output_type": "execute_result"
    }
   ],
   "source": [
    "'''There should be none of the null amounts'''\n",
    "show_stats_clean.isnull().sum().any()"
   ]
  },
  {
   "cell_type": "code",
   "execution_count": 23,
   "metadata": {},
   "outputs": [],
   "source": [
    "'''Dropping the new index, and reset the placed one'''\n",
    "show_stats_clean.reset_index(drop=True,inplace=True)"
   ]
  },
  {
   "cell_type": "markdown",
   "metadata": {},
   "source": [
    "- Replace all ages <= 0 with nan to be excluded from our dataset\n",
    "- Change the index of our rows after excluding the wrong ages records"
   ]
  },
  {
   "cell_type": "code",
   "execution_count": 24,
   "metadata": {},
   "outputs": [],
   "source": [
    "'''Replace the column and positive value of hypertension column with the diagnosis name for further analysis'''\n",
    "show_stats_clean['hypertension'].replace({1:'hypertension', 0: np.nan}, inplace=True)"
   ]
  },
  {
   "cell_type": "code",
   "execution_count": 25,
   "metadata": {},
   "outputs": [],
   "source": [
    "'''Replace the column and positive value of diabetes column with the diagnosis name for further analysis'''\n",
    "show_stats_clean['diabetes'].replace({1:'diabetes', 0: np.nan}, inplace=True)"
   ]
  },
  {
   "cell_type": "code",
   "execution_count": 26,
   "metadata": {},
   "outputs": [],
   "source": [
    "'''Replace the column and positive value of alcoholism column with the diagnosis name for further analysis'''\n",
    "show_stats_clean['alcoholism'].replace({1:'alcoholism', 0: np.nan}, inplace=True)"
   ]
  },
  {
   "cell_type": "code",
   "execution_count": 27,
   "metadata": {},
   "outputs": [],
   "source": [
    "'''Replace the column and positive value of handicap column with the diagnosis name for further analysis'''\n",
    "show_stats_clean['handicap'].replace({1:'handicap', 0: np.nan}, inplace=True)"
   ]
  },
  {
   "cell_type": "code",
   "execution_count": 28,
   "metadata": {},
   "outputs": [],
   "source": [
    "'''Rename the values of governmental welfare to strings as enrolled or not_enrolled'''\n",
    "show_stats_clean['welfare_program'].replace({1:'enrolled', 0:'not_enrolled'},inplace=True)"
   ]
  },
  {
   "cell_type": "markdown",
   "metadata": {},
   "source": [
    "- Rename the values of our data columns to be more consistent for further analysis, and convert the 0s of diseases to NaN to be dropped easily from our records"
   ]
  },
  {
   "cell_type": "code",
   "execution_count": 29,
   "metadata": {},
   "outputs": [],
   "source": [
    "'''We need to melt the three columns in one column \"Diagnosis\" to be able to drop the 0 amounts at once'''\n",
    "show_stats_clean= pd.melt(show_stats_clean, id_vars=['patient_id','appointment_id','gender','scheduled_day','appointment_day','age',\n",
    "                                                     'neighborhood','welfare_program','sms_received','no_show'],\n",
    "                                                     var_name='disease_type',\n",
    "                                                     value_name='diagnosis')"
   ]
  },
  {
   "cell_type": "code",
   "execution_count": 30,
   "metadata": {},
   "outputs": [
    {
     "data": {
      "text/html": [
       "<div>\n",
       "<style scoped>\n",
       "    .dataframe tbody tr th:only-of-type {\n",
       "        vertical-align: middle;\n",
       "    }\n",
       "\n",
       "    .dataframe tbody tr th {\n",
       "        vertical-align: top;\n",
       "    }\n",
       "\n",
       "    .dataframe thead th {\n",
       "        text-align: right;\n",
       "    }\n",
       "</style>\n",
       "<table border=\"1\" class=\"dataframe\">\n",
       "  <thead>\n",
       "    <tr style=\"text-align: right;\">\n",
       "      <th></th>\n",
       "      <th>patient_id</th>\n",
       "      <th>appointment_id</th>\n",
       "      <th>gender</th>\n",
       "      <th>scheduled_day</th>\n",
       "      <th>appointment_day</th>\n",
       "      <th>age</th>\n",
       "      <th>neighborhood</th>\n",
       "      <th>welfare_program</th>\n",
       "      <th>sms_received</th>\n",
       "      <th>no_show</th>\n",
       "      <th>disease_type</th>\n",
       "      <th>diagnosis</th>\n",
       "    </tr>\n",
       "  </thead>\n",
       "  <tbody>\n",
       "    <tr>\n",
       "      <th>0</th>\n",
       "      <td>2.987250e+13</td>\n",
       "      <td>5642903</td>\n",
       "      <td>F</td>\n",
       "      <td>2016-04-29T18:38:08Z</td>\n",
       "      <td>2016-04-29T00:00:00Z</td>\n",
       "      <td>62.0</td>\n",
       "      <td>JARDIM DA PENHA</td>\n",
       "      <td>not_enrolled</td>\n",
       "      <td>0</td>\n",
       "      <td>No</td>\n",
       "      <td>hypertension</td>\n",
       "      <td>hypertension</td>\n",
       "    </tr>\n",
       "    <tr>\n",
       "      <th>1</th>\n",
       "      <td>5.589978e+14</td>\n",
       "      <td>5642503</td>\n",
       "      <td>M</td>\n",
       "      <td>2016-04-29T16:08:27Z</td>\n",
       "      <td>2016-04-29T00:00:00Z</td>\n",
       "      <td>56.0</td>\n",
       "      <td>JARDIM DA PENHA</td>\n",
       "      <td>not_enrolled</td>\n",
       "      <td>0</td>\n",
       "      <td>No</td>\n",
       "      <td>hypertension</td>\n",
       "      <td>NaN</td>\n",
       "    </tr>\n",
       "    <tr>\n",
       "      <th>2</th>\n",
       "      <td>4.262962e+12</td>\n",
       "      <td>5642549</td>\n",
       "      <td>F</td>\n",
       "      <td>2016-04-29T16:19:04Z</td>\n",
       "      <td>2016-04-29T00:00:00Z</td>\n",
       "      <td>62.0</td>\n",
       "      <td>MATA DA PRAIA</td>\n",
       "      <td>not_enrolled</td>\n",
       "      <td>0</td>\n",
       "      <td>No</td>\n",
       "      <td>hypertension</td>\n",
       "      <td>NaN</td>\n",
       "    </tr>\n",
       "  </tbody>\n",
       "</table>\n",
       "</div>"
      ],
      "text/plain": [
       "     patient_id  appointment_id gender         scheduled_day  \\\n",
       "0  2.987250e+13         5642903      F  2016-04-29T18:38:08Z   \n",
       "1  5.589978e+14         5642503      M  2016-04-29T16:08:27Z   \n",
       "2  4.262962e+12         5642549      F  2016-04-29T16:19:04Z   \n",
       "\n",
       "        appointment_day   age     neighborhood welfare_program  sms_received  \\\n",
       "0  2016-04-29T00:00:00Z  62.0  JARDIM DA PENHA    not_enrolled             0   \n",
       "1  2016-04-29T00:00:00Z  56.0  JARDIM DA PENHA    not_enrolled             0   \n",
       "2  2016-04-29T00:00:00Z  62.0    MATA DA PRAIA    not_enrolled             0   \n",
       "\n",
       "  no_show  disease_type     diagnosis  \n",
       "0      No  hypertension  hypertension  \n",
       "1      No  hypertension           NaN  \n",
       "2      No  hypertension           NaN  "
      ]
     },
     "execution_count": 30,
     "metadata": {},
     "output_type": "execute_result"
    }
   ],
   "source": [
    "'''Overall look'''\n",
    "show_stats_clean.head(3)"
   ]
  },
  {
   "cell_type": "code",
   "execution_count": 31,
   "metadata": {},
   "outputs": [],
   "source": [
    "show_stats_clean.dropna(inplace=True)\n",
    "show_stats_clean.reset_index(drop=True, inplace=True)"
   ]
  },
  {
   "cell_type": "code",
   "execution_count": 32,
   "metadata": {},
   "outputs": [
    {
     "data": {
      "text/plain": [
       "(67689, 12)"
      ]
     },
     "execution_count": 32,
     "metadata": {},
     "output_type": "execute_result"
    }
   ],
   "source": [
    "show_stats_clean.shape"
   ]
  },
  {
   "cell_type": "code",
   "execution_count": 33,
   "metadata": {},
   "outputs": [
    {
     "data": {
      "text/plain": [
       "array(['hypertension', 'diabetes', 'alcoholism', 'handicap'], dtype=object)"
      ]
     },
     "execution_count": 33,
     "metadata": {},
     "output_type": "execute_result"
    }
   ],
   "source": [
    "show_stats_clean.diagnosis.unique()"
   ]
  },
  {
   "cell_type": "markdown",
   "metadata": {},
   "source": [
    "- Melt the four columns of diseases type in one column, and their values in another column as \"diagnosis\", which leads to generate more rows in our columns and will be handled.\n",
    "Also, we dropped the 0s values that we converted to NaN in the previous step"
   ]
  },
  {
   "cell_type": "code",
   "execution_count": 34,
   "metadata": {},
   "outputs": [
    {
     "data": {
      "text/html": [
       "<div>\n",
       "<style scoped>\n",
       "    .dataframe tbody tr th:only-of-type {\n",
       "        vertical-align: middle;\n",
       "    }\n",
       "\n",
       "    .dataframe tbody tr th {\n",
       "        vertical-align: top;\n",
       "    }\n",
       "\n",
       "    .dataframe thead th {\n",
       "        text-align: right;\n",
       "    }\n",
       "</style>\n",
       "<table border=\"1\" class=\"dataframe\">\n",
       "  <thead>\n",
       "    <tr style=\"text-align: right;\">\n",
       "      <th></th>\n",
       "      <th>patient_id</th>\n",
       "      <th>appointment_id</th>\n",
       "      <th>gender</th>\n",
       "      <th>scheduled_day</th>\n",
       "      <th>appointment_day</th>\n",
       "      <th>age</th>\n",
       "      <th>neighborhood</th>\n",
       "      <th>welfare_program</th>\n",
       "      <th>sms_received</th>\n",
       "      <th>no_show</th>\n",
       "      <th>disease_type</th>\n",
       "      <th>diagnosis</th>\n",
       "    </tr>\n",
       "  </thead>\n",
       "  <tbody>\n",
       "    <tr>\n",
       "      <th>21801</th>\n",
       "      <td>8.841186e+12</td>\n",
       "      <td>5642494</td>\n",
       "      <td>F</td>\n",
       "      <td>2016-04-29T16:07:23Z</td>\n",
       "      <td>2016-04-29T00:00:00Z</td>\n",
       "      <td>56.0</td>\n",
       "      <td>JARDIM DA PENHA</td>\n",
       "      <td>not_enrolled</td>\n",
       "      <td>0</td>\n",
       "      <td>No</td>\n",
       "      <td>diabetes</td>\n",
       "      <td>diabetes</td>\n",
       "    </tr>\n",
       "    <tr>\n",
       "      <th>21802</th>\n",
       "      <td>7.298459e+13</td>\n",
       "      <td>5637975</td>\n",
       "      <td>F</td>\n",
       "      <td>2016-04-29T07:35:19Z</td>\n",
       "      <td>2016-04-29T00:00:00Z</td>\n",
       "      <td>63.0</td>\n",
       "      <td>SÃO CRISTÓVÃO</td>\n",
       "      <td>not_enrolled</td>\n",
       "      <td>0</td>\n",
       "      <td>No</td>\n",
       "      <td>diabetes</td>\n",
       "      <td>diabetes</td>\n",
       "    </tr>\n",
       "    <tr>\n",
       "      <th>21803</th>\n",
       "      <td>1.578132e+12</td>\n",
       "      <td>5637986</td>\n",
       "      <td>F</td>\n",
       "      <td>2016-04-29T07:35:56Z</td>\n",
       "      <td>2016-04-29T00:00:00Z</td>\n",
       "      <td>64.0</td>\n",
       "      <td>TABUAZEIRO</td>\n",
       "      <td>enrolled</td>\n",
       "      <td>0</td>\n",
       "      <td>No</td>\n",
       "      <td>diabetes</td>\n",
       "      <td>diabetes</td>\n",
       "    </tr>\n",
       "    <tr>\n",
       "      <th>21805</th>\n",
       "      <td>2.741649e+11</td>\n",
       "      <td>5635414</td>\n",
       "      <td>F</td>\n",
       "      <td>2016-04-28T13:27:27Z</td>\n",
       "      <td>2016-04-29T00:00:00Z</td>\n",
       "      <td>78.0</td>\n",
       "      <td>SÃO CRISTÓVÃO</td>\n",
       "      <td>not_enrolled</td>\n",
       "      <td>0</td>\n",
       "      <td>Yes</td>\n",
       "      <td>diabetes</td>\n",
       "      <td>diabetes</td>\n",
       "    </tr>\n",
       "    <tr>\n",
       "      <th>21806</th>\n",
       "      <td>5.894585e+11</td>\n",
       "      <td>5633116</td>\n",
       "      <td>F</td>\n",
       "      <td>2016-04-28T08:51:26Z</td>\n",
       "      <td>2016-04-29T00:00:00Z</td>\n",
       "      <td>39.0</td>\n",
       "      <td>MARUÍPE</td>\n",
       "      <td>not_enrolled</td>\n",
       "      <td>0</td>\n",
       "      <td>No</td>\n",
       "      <td>diabetes</td>\n",
       "      <td>diabetes</td>\n",
       "    </tr>\n",
       "    <tr>\n",
       "      <th>...</th>\n",
       "      <td>...</td>\n",
       "      <td>...</td>\n",
       "      <td>...</td>\n",
       "      <td>...</td>\n",
       "      <td>...</td>\n",
       "      <td>...</td>\n",
       "      <td>...</td>\n",
       "      <td>...</td>\n",
       "      <td>...</td>\n",
       "      <td>...</td>\n",
       "      <td>...</td>\n",
       "      <td>...</td>\n",
       "    </tr>\n",
       "    <tr>\n",
       "      <th>67664</th>\n",
       "      <td>2.586717e+12</td>\n",
       "      <td>5746688</td>\n",
       "      <td>M</td>\n",
       "      <td>2016-05-30T14:23:10Z</td>\n",
       "      <td>2016-06-06T00:00:00Z</td>\n",
       "      <td>49.0</td>\n",
       "      <td>RESISTÊNCIA</td>\n",
       "      <td>not_enrolled</td>\n",
       "      <td>0</td>\n",
       "      <td>No</td>\n",
       "      <td>handicap</td>\n",
       "      <td>handicap</td>\n",
       "    </tr>\n",
       "    <tr>\n",
       "      <th>67666</th>\n",
       "      <td>6.338837e+14</td>\n",
       "      <td>5701786</td>\n",
       "      <td>F</td>\n",
       "      <td>2016-05-16T11:00:12Z</td>\n",
       "      <td>2016-06-06T00:00:00Z</td>\n",
       "      <td>39.0</td>\n",
       "      <td>RESISTÊNCIA</td>\n",
       "      <td>not_enrolled</td>\n",
       "      <td>0</td>\n",
       "      <td>No</td>\n",
       "      <td>handicap</td>\n",
       "      <td>handicap</td>\n",
       "    </tr>\n",
       "    <tr>\n",
       "      <th>67670</th>\n",
       "      <td>3.227475e+11</td>\n",
       "      <td>5763322</td>\n",
       "      <td>F</td>\n",
       "      <td>2016-06-02T08:49:21Z</td>\n",
       "      <td>2016-06-07T00:00:00Z</td>\n",
       "      <td>76.0</td>\n",
       "      <td>RESISTÊNCIA</td>\n",
       "      <td>not_enrolled</td>\n",
       "      <td>0</td>\n",
       "      <td>No</td>\n",
       "      <td>handicap</td>\n",
       "      <td>handicap</td>\n",
       "    </tr>\n",
       "    <tr>\n",
       "      <th>67673</th>\n",
       "      <td>9.278752e+12</td>\n",
       "      <td>5678369</td>\n",
       "      <td>F</td>\n",
       "      <td>2016-05-10T08:25:25Z</td>\n",
       "      <td>2016-06-06T00:00:00Z</td>\n",
       "      <td>80.0</td>\n",
       "      <td>RESISTÊNCIA</td>\n",
       "      <td>not_enrolled</td>\n",
       "      <td>0</td>\n",
       "      <td>No</td>\n",
       "      <td>handicap</td>\n",
       "      <td>handicap</td>\n",
       "    </tr>\n",
       "    <tr>\n",
       "      <th>67674</th>\n",
       "      <td>2.798494e+13</td>\n",
       "      <td>5673472</td>\n",
       "      <td>F</td>\n",
       "      <td>2016-05-09T09:24:09Z</td>\n",
       "      <td>2016-06-06T00:00:00Z</td>\n",
       "      <td>67.0</td>\n",
       "      <td>RESISTÊNCIA</td>\n",
       "      <td>not_enrolled</td>\n",
       "      <td>0</td>\n",
       "      <td>No</td>\n",
       "      <td>handicap</td>\n",
       "      <td>handicap</td>\n",
       "    </tr>\n",
       "  </tbody>\n",
       "</table>\n",
       "<p>15670 rows × 12 columns</p>\n",
       "</div>"
      ],
      "text/plain": [
       "         patient_id  appointment_id gender         scheduled_day  \\\n",
       "21801  8.841186e+12         5642494      F  2016-04-29T16:07:23Z   \n",
       "21802  7.298459e+13         5637975      F  2016-04-29T07:35:19Z   \n",
       "21803  1.578132e+12         5637986      F  2016-04-29T07:35:56Z   \n",
       "21805  2.741649e+11         5635414      F  2016-04-28T13:27:27Z   \n",
       "21806  5.894585e+11         5633116      F  2016-04-28T08:51:26Z   \n",
       "...             ...             ...    ...                   ...   \n",
       "67664  2.586717e+12         5746688      M  2016-05-30T14:23:10Z   \n",
       "67666  6.338837e+14         5701786      F  2016-05-16T11:00:12Z   \n",
       "67670  3.227475e+11         5763322      F  2016-06-02T08:49:21Z   \n",
       "67673  9.278752e+12         5678369      F  2016-05-10T08:25:25Z   \n",
       "67674  2.798494e+13         5673472      F  2016-05-09T09:24:09Z   \n",
       "\n",
       "            appointment_day   age     neighborhood welfare_program  \\\n",
       "21801  2016-04-29T00:00:00Z  56.0  JARDIM DA PENHA    not_enrolled   \n",
       "21802  2016-04-29T00:00:00Z  63.0    SÃO CRISTÓVÃO    not_enrolled   \n",
       "21803  2016-04-29T00:00:00Z  64.0       TABUAZEIRO        enrolled   \n",
       "21805  2016-04-29T00:00:00Z  78.0    SÃO CRISTÓVÃO    not_enrolled   \n",
       "21806  2016-04-29T00:00:00Z  39.0          MARUÍPE    not_enrolled   \n",
       "...                     ...   ...              ...             ...   \n",
       "67664  2016-06-06T00:00:00Z  49.0      RESISTÊNCIA    not_enrolled   \n",
       "67666  2016-06-06T00:00:00Z  39.0      RESISTÊNCIA    not_enrolled   \n",
       "67670  2016-06-07T00:00:00Z  76.0      RESISTÊNCIA    not_enrolled   \n",
       "67673  2016-06-06T00:00:00Z  80.0      RESISTÊNCIA    not_enrolled   \n",
       "67674  2016-06-06T00:00:00Z  67.0      RESISTÊNCIA    not_enrolled   \n",
       "\n",
       "       sms_received no_show disease_type diagnosis  \n",
       "21801             0      No     diabetes  diabetes  \n",
       "21802             0      No     diabetes  diabetes  \n",
       "21803             0      No     diabetes  diabetes  \n",
       "21805             0     Yes     diabetes  diabetes  \n",
       "21806             0      No     diabetes  diabetes  \n",
       "...             ...     ...          ...       ...  \n",
       "67664             0      No     handicap  handicap  \n",
       "67666             0      No     handicap  handicap  \n",
       "67670             0      No     handicap  handicap  \n",
       "67673             0      No     handicap  handicap  \n",
       "67674             0      No     handicap  handicap  \n",
       "\n",
       "[15670 rows x 12 columns]"
      ]
     },
     "execution_count": 34,
     "metadata": {},
     "output_type": "execute_result"
    }
   ],
   "source": [
    "'''Check if there is duplicated appointment_id'''\n",
    "show_stats_clean[show_stats_clean.appointment_id.duplicated()]"
   ]
  },
  {
   "cell_type": "markdown",
   "metadata": {},
   "source": [
    "- Here, we've noticed that there are duplicated rows for the same appointment_id generated as a result of metling the four disease values in another column"
   ]
  },
  {
   "cell_type": "code",
   "execution_count": 35,
   "metadata": {},
   "outputs": [
    {
     "data": {
      "text/html": [
       "<div>\n",
       "<style scoped>\n",
       "    .dataframe tbody tr th:only-of-type {\n",
       "        vertical-align: middle;\n",
       "    }\n",
       "\n",
       "    .dataframe tbody tr th {\n",
       "        vertical-align: top;\n",
       "    }\n",
       "\n",
       "    .dataframe thead th {\n",
       "        text-align: right;\n",
       "    }\n",
       "</style>\n",
       "<table border=\"1\" class=\"dataframe\">\n",
       "  <thead>\n",
       "    <tr style=\"text-align: right;\">\n",
       "      <th></th>\n",
       "      <th>patient_id</th>\n",
       "      <th>appointment_id</th>\n",
       "      <th>gender</th>\n",
       "      <th>scheduled_day</th>\n",
       "      <th>appointment_day</th>\n",
       "      <th>age</th>\n",
       "      <th>neighborhood</th>\n",
       "      <th>welfare_program</th>\n",
       "      <th>sms_received</th>\n",
       "      <th>no_show</th>\n",
       "      <th>disease_type</th>\n",
       "      <th>diagnosis</th>\n",
       "    </tr>\n",
       "  </thead>\n",
       "  <tbody>\n",
       "    <tr>\n",
       "      <th>11</th>\n",
       "      <td>2.741649e+11</td>\n",
       "      <td>5635414</td>\n",
       "      <td>F</td>\n",
       "      <td>2016-04-28T13:27:27Z</td>\n",
       "      <td>2016-04-29T00:00:00Z</td>\n",
       "      <td>78.0</td>\n",
       "      <td>SÃO CRISTÓVÃO</td>\n",
       "      <td>not_enrolled</td>\n",
       "      <td>0</td>\n",
       "      <td>Yes</td>\n",
       "      <td>hypertension</td>\n",
       "      <td>hypertension</td>\n",
       "    </tr>\n",
       "    <tr>\n",
       "      <th>21805</th>\n",
       "      <td>2.741649e+11</td>\n",
       "      <td>5635414</td>\n",
       "      <td>F</td>\n",
       "      <td>2016-04-28T13:27:27Z</td>\n",
       "      <td>2016-04-29T00:00:00Z</td>\n",
       "      <td>78.0</td>\n",
       "      <td>SÃO CRISTÓVÃO</td>\n",
       "      <td>not_enrolled</td>\n",
       "      <td>0</td>\n",
       "      <td>Yes</td>\n",
       "      <td>diabetes</td>\n",
       "      <td>diabetes</td>\n",
       "    </tr>\n",
       "  </tbody>\n",
       "</table>\n",
       "</div>"
      ],
      "text/plain": [
       "         patient_id  appointment_id gender         scheduled_day  \\\n",
       "11     2.741649e+11         5635414      F  2016-04-28T13:27:27Z   \n",
       "21805  2.741649e+11         5635414      F  2016-04-28T13:27:27Z   \n",
       "\n",
       "            appointment_day   age   neighborhood welfare_program  \\\n",
       "11     2016-04-29T00:00:00Z  78.0  SÃO CRISTÓVÃO    not_enrolled   \n",
       "21805  2016-04-29T00:00:00Z  78.0  SÃO CRISTÓVÃO    not_enrolled   \n",
       "\n",
       "       sms_received no_show  disease_type     diagnosis  \n",
       "11                0     Yes  hypertension  hypertension  \n",
       "21805             0     Yes      diabetes      diabetes  "
      ]
     },
     "execution_count": 35,
     "metadata": {},
     "output_type": "execute_result"
    }
   ],
   "source": [
    "'''Take a sample to check why is there still duplicated visits for the same patient'''\n",
    "show_stats_clean[show_stats_clean.appointment_id==5635414]\n"
   ]
  },
  {
   "cell_type": "markdown",
   "metadata": {},
   "source": [
    "- The paient at the same visit time has been diagnosed with more than one diagnosis, inthis case(hypertension, diabetes) "
   ]
  },
  {
   "cell_type": "code",
   "execution_count": 36,
   "metadata": {},
   "outputs": [],
   "source": [
    "'''Now we shall drop the disease_type since we have all its records in the diagnosis column'''\n",
    "show_stats_clean.drop(['disease_type'],axis=1,inplace=True)"
   ]
  },
  {
   "cell_type": "code",
   "execution_count": 37,
   "metadata": {},
   "outputs": [
    {
     "data": {
      "text/plain": [
       "patient_id         28\n",
       "appointment_id     28\n",
       "gender             28\n",
       "scheduled_day      28\n",
       "appointment_day    28\n",
       "age                28\n",
       "neighborhood       28\n",
       "welfare_program    28\n",
       "sms_received       28\n",
       "no_show            28\n",
       "diagnosis          28\n",
       "dtype: int64"
      ]
     },
     "execution_count": 37,
     "metadata": {},
     "output_type": "execute_result"
    }
   ],
   "source": [
    "'''Have a look to any unvalidity diagnosis based on the world schema\n",
    "people under < or = 18 cannot be alcoholic as per the legal drinking age in Brazil'''\n",
    "show_stats_clean.query('age <= 18 & diagnosis==\"alcoholism\"' ).count()"
   ]
  },
  {
   "cell_type": "markdown",
   "metadata": {},
   "source": [
    "- Around 30 patients are under the legal age of drinking alcohol, which is an absolute world schema invalidity to be diagnosed as alcoholic"
   ]
  },
  {
   "cell_type": "code",
   "execution_count": 38,
   "metadata": {},
   "outputs": [],
   "source": [
    "'''Drop the alcoholic 18 or below from the records'''\n",
    "show_stats_clean=show_stats_clean.drop(show_stats_clean[(show_stats_clean['age']<= 18) & (show_stats_clean['diagnosis'] == 'alcoholism')].index)\n",
    "show_stats_clean.reset_index(drop=True , inplace=True)"
   ]
  },
  {
   "cell_type": "code",
   "execution_count": 39,
   "metadata": {},
   "outputs": [
    {
     "name": "stdout",
     "output_type": "stream",
     "text": [
      "<class 'pandas.core.frame.DataFrame'>\n",
      "RangeIndex: 67661 entries, 0 to 67660\n",
      "Data columns (total 11 columns):\n",
      " #   Column           Non-Null Count  Dtype  \n",
      "---  ------           --------------  -----  \n",
      " 0   patient_id       67661 non-null  float64\n",
      " 1   appointment_id   67661 non-null  int64  \n",
      " 2   gender           67661 non-null  object \n",
      " 3   scheduled_day    67661 non-null  object \n",
      " 4   appointment_day  67661 non-null  object \n",
      " 5   age              67661 non-null  float64\n",
      " 6   neighborhood     67661 non-null  object \n",
      " 7   welfare_program  67661 non-null  object \n",
      " 8   sms_received     67661 non-null  int64  \n",
      " 9   no_show          67661 non-null  object \n",
      " 10  diagnosis        67661 non-null  object \n",
      "dtypes: float64(2), int64(2), object(7)\n",
      "memory usage: 5.7+ MB\n"
     ]
    }
   ],
   "source": [
    "'''Check the changes'''\n",
    "show_stats_clean.info()"
   ]
  },
  {
   "cell_type": "code",
   "execution_count": 40,
   "metadata": {},
   "outputs": [
    {
     "data": {
      "text/html": [
       "<div>\n",
       "<style scoped>\n",
       "    .dataframe tbody tr th:only-of-type {\n",
       "        vertical-align: middle;\n",
       "    }\n",
       "\n",
       "    .dataframe tbody tr th {\n",
       "        vertical-align: top;\n",
       "    }\n",
       "\n",
       "    .dataframe thead th {\n",
       "        text-align: right;\n",
       "    }\n",
       "</style>\n",
       "<table border=\"1\" class=\"dataframe\">\n",
       "  <thead>\n",
       "    <tr style=\"text-align: right;\">\n",
       "      <th></th>\n",
       "      <th>patient_id</th>\n",
       "      <th>appointment_id</th>\n",
       "      <th>gender</th>\n",
       "      <th>scheduled_day</th>\n",
       "      <th>appointment_day</th>\n",
       "      <th>age</th>\n",
       "      <th>neighborhood</th>\n",
       "      <th>welfare_program</th>\n",
       "      <th>sms_received</th>\n",
       "      <th>no_show</th>\n",
       "      <th>diagnosis</th>\n",
       "    </tr>\n",
       "  </thead>\n",
       "  <tbody>\n",
       "    <tr>\n",
       "      <th>20069</th>\n",
       "      <td>2.118672e+12</td>\n",
       "      <td>5725845</td>\n",
       "      <td>F</td>\n",
       "      <td>2016-05-20T12:03:08Z</td>\n",
       "      <td>2016-06-08T00:00:00Z</td>\n",
       "      <td>41.0</td>\n",
       "      <td>GURIGICA</td>\n",
       "      <td>not_enrolled</td>\n",
       "      <td>0</td>\n",
       "      <td>Yes</td>\n",
       "      <td>hypertension</td>\n",
       "    </tr>\n",
       "  </tbody>\n",
       "</table>\n",
       "</div>"
      ],
      "text/plain": [
       "         patient_id  appointment_id gender         scheduled_day  \\\n",
       "20069  2.118672e+12         5725845      F  2016-05-20T12:03:08Z   \n",
       "\n",
       "            appointment_day   age neighborhood welfare_program  sms_received  \\\n",
       "20069  2016-06-08T00:00:00Z  41.0     GURIGICA    not_enrolled             0   \n",
       "\n",
       "      no_show     diagnosis  \n",
       "20069     Yes  hypertension  "
      ]
     },
     "execution_count": 40,
     "metadata": {},
     "output_type": "execute_result"
    }
   ],
   "source": [
    "'''Get sample to check'''\n",
    "show_stats_clean.sample()"
   ]
  },
  {
   "cell_type": "markdown",
   "metadata": {},
   "source": [
    "- Exclude the invalid data of alcoholic underage patients from our set"
   ]
  },
  {
   "cell_type": "code",
   "execution_count": 41,
   "metadata": {},
   "outputs": [],
   "source": [
    "'''Change the dtype of the columns'''\n",
    "\n",
    "'''Slicing patient_id to eliminate the last two characters'''\n",
    "show_stats_clean.patient_id= show_stats_clean.patient_id.astype('str').str[:-2].str.strip()\n",
    "\n",
    "'''Change the type of appointment_id to be object'''\n",
    "show_stats_clean.appointment_id= show_stats_clean.appointment_id.astype('str').str.strip()\n",
    "\n",
    "'''Change the type of age to be integer'''\n",
    "show_stats_clean.age= show_stats_clean.age.astype('int64')\n",
    "\n"
   ]
  },
  {
   "cell_type": "code",
   "execution_count": 42,
   "metadata": {},
   "outputs": [],
   "source": [
    "'''Change the dtype of the scheduled day, and appointment day to be date'''\n",
    "show_stats_clean['scheduled_day']= pd.to_datetime(show_stats_clean['scheduled_day']).dt.tz_localize(None)\n",
    "show_stats_clean['appointment_day']= pd.to_datetime(show_stats_clean['appointment_day']).dt.tz_localize(None)"
   ]
  },
  {
   "cell_type": "code",
   "execution_count": 43,
   "metadata": {},
   "outputs": [
    {
     "data": {
      "text/plain": [
       "patient_id                 object\n",
       "appointment_id             object\n",
       "gender                     object\n",
       "scheduled_day      datetime64[ns]\n",
       "appointment_day    datetime64[ns]\n",
       "age                         int64\n",
       "neighborhood               object\n",
       "welfare_program            object\n",
       "sms_received                int64\n",
       "no_show                    object\n",
       "diagnosis                  object\n",
       "dtype: object"
      ]
     },
     "execution_count": 43,
     "metadata": {},
     "output_type": "execute_result"
    }
   ],
   "source": [
    "'''Check the dtypes to make sure they're clear now'''\n",
    "show_stats_clean.dtypes"
   ]
  },
  {
   "cell_type": "markdown",
   "metadata": {},
   "source": [
    "- Change the data types of the columns with the proper type. scheduled, appointment_id to be datetime to access them easily furthermore age to be integer "
   ]
  },
  {
   "cell_type": "code",
   "execution_count": 44,
   "metadata": {},
   "outputs": [],
   "source": [
    "'''Add a column with the difference in time between both the scheduled and appointment day,\n",
    "and eliminate the -1 to 0 instead of dropping their values, as it might be just an error.'''\n",
    "show_stats_clean['time_gap']= (show_stats_clean['appointment_day']- show_stats_clean['scheduled_day']).dt.days\n",
    "show_stats_clean['time_gap'].replace(-1,0, inplace=True)"
   ]
  },
  {
   "cell_type": "code",
   "execution_count": 45,
   "metadata": {},
   "outputs": [],
   "source": [
    "'''Extract the day name of the appointment_day\n",
    "as it it's the one which we build our analysis on'''\n",
    "show_stats_clean['day_of_week']=show_stats_clean['appointment_day'].dt.day_name()"
   ]
  },
  {
   "cell_type": "code",
   "execution_count": 46,
   "metadata": {},
   "outputs": [],
   "source": [
    "'''Extract the month name for further illustrations'''\n",
    "show_stats_clean['month_of_year']=show_stats_clean['appointment_day'].dt.month_name()"
   ]
  },
  {
   "cell_type": "code",
   "execution_count": 47,
   "metadata": {},
   "outputs": [
    {
     "data": {
      "text/plain": [
       "patient_id                 object\n",
       "appointment_id             object\n",
       "gender                     object\n",
       "scheduled_day      datetime64[ns]\n",
       "appointment_day    datetime64[ns]\n",
       "age                         int64\n",
       "neighborhood               object\n",
       "welfare_program            object\n",
       "sms_received                int64\n",
       "no_show                    object\n",
       "diagnosis                  object\n",
       "time_gap                    int64\n",
       "day_of_week                object\n",
       "month_of_year              object\n",
       "dtype: object"
      ]
     },
     "execution_count": 47,
     "metadata": {},
     "output_type": "execute_result"
    }
   ],
   "source": [
    "'''Check the changes and the type of them at the same time'''\n",
    "show_stats_clean.dtypes"
   ]
  },
  {
   "cell_type": "markdown",
   "metadata": {},
   "source": [
    "- Add three columns:\n",
    "Time gap, which represents the waiting period between the scheduled day and appointment day, and it's preferrable not to lose the data of -1 days, and it can be replaced with 0, as it could be just mistyping..\n",
    "\n",
    "   Day of week, which represents the day name of appointment day\n",
    "Month of year, which represents the month name of appointment day"
   ]
  },
  {
   "cell_type": "markdown",
   "metadata": {},
   "source": [
    "<a id='eda'></a>\n",
    "## Exploratory Data Analysis\n",
    "\n",
    "> **Tip**: Now that you've trimmed and cleaned your data, you're ready to move on to exploration. **Compute statistics** and **create visualizations** with the goal of addressing the research questions that you posed in the Introduction section. You should compute the relevant statistics throughout the analysis when an inference is made about the data. Note that at least two or more kinds of plots should be created as part of the exploration, and you must  compare and show trends in the varied visualizations. \n",
    "\n",
    "\n",
    "\n",
    "> **Tip**: - Investigate the stated question(s) from multiple angles. It is recommended that you be systematic with your approach. Look at one variable at a time, and then follow it up by looking at relationships between variables. You should explore at least three variables in relation to the primary question. This can be an exploratory relationship between three variables of interest, or looking at how two independent variables relate to a single dependent variable of interest. Lastly, you  should perform both single-variable (1d) and multiple-variable (2d) explorations.\n",
    "\n",
    "\n",
    "### Research Question 1 (Which more, the missed or attended appointments)"
   ]
  },
  {
   "cell_type": "code",
   "execution_count": 48,
   "metadata": {},
   "outputs": [
    {
     "name": "stderr",
     "output_type": "stream",
     "text": [
      "C:\\Users\\Lenovo\\anaconda3\\lib\\site-packages\\IPython\\core\\pylabtools.py:151: UserWarning: Creating legend with loc=\"best\" can be slow with large amounts of data.\n",
      "  fig.canvas.print_figure(bytes_io, **kw)\n"
     ]
    },
    {
     "data": {
      "image/png": "[encoded data removed]",
      "text/plain": [
       "<Figure size 432x288 with 1 Axes>"
      ]
     },
     "metadata": {},
     "output_type": "display_data"
    }
   ],
   "source": [
    "'''The majority of the attendence illustration'''\n",
    "labels=['Attendant', 'Absent']\n",
    "colors = [ 'gold', 'lightcoral']\n",
    "x=show_stats_clean['no_show'].value_counts()\n",
    "figsize=(8,8)\n",
    "plt.pie(x=x, autopct='%1.0f%%', colors=colors, labels=labels)\n",
    "plt.title('No_show illustration', weight='bold')\n",
    "plt.legend()\n",
    "plt.axis('equal');\n"
   ]
  },
  {
   "cell_type": "markdown",
   "metadata": {},
   "source": [
    "- Majority of patients attended their appointments, 77%"
   ]
  },
  {
   "cell_type": "markdown",
   "metadata": {},
   "source": [
    "### Research Question 2 (Which month is the most frequent one in both sides, the absence and attendance)"
   ]
  },
  {
   "cell_type": "code",
   "execution_count": 49,
   "metadata": {},
   "outputs": [],
   "source": [
    "'''Save the categorization of each value in no_show column record to separate value for eady access'''\n",
    "Yes= show_stats_clean['no_show']=='Yes'\n",
    "No= show_stats_clean['no_show']=='No'"
   ]
  },
  {
   "cell_type": "code",
   "execution_count": 50,
   "metadata": {},
   "outputs": [],
   "source": [
    "'''Define a function to be applied on one or more columns that show the frequency based on a specific column to analyze'''\n",
    "def plot_hist(col):\n",
    "    plt.figure(figsize=(6,6))\n",
    "    show_stats_clean[col][No].hist(alpha=1, color=['pink'], label='Attendance')\n",
    "    show_stats_clean[col][Yes].hist(alpha=0.9, color=['purple'], label='Absence')\n",
    "    plt.xticks(rotation=30)\n",
    "    plt.ylabel('frequency'.title(), fontsize=12, weight='bold')\n",
    "    plt.xlabel('{}'.format(col).title(), fontsize=12, weight='bold')\n",
    "    plt.title('frequency based on {}'.format(col).title(),fontsize=10, weight='bold')\n",
    "    plt.legend();"
   ]
  },
  {
   "cell_type": "code",
   "execution_count": 51,
   "metadata": {},
   "outputs": [
    {
     "data": {
      "image/png": "[encoded data removed]",
      "text/plain": [
       "<Figure size 432x432 with 1 Axes>"
      ]
     },
     "metadata": {},
     "output_type": "display_data"
    }
   ],
   "source": [
    "plot_hist('month_of_year')"
   ]
  },
  {
   "cell_type": "markdown",
   "metadata": {},
   "source": [
    "- The most frequent month is May throughout the second quarter of 2016"
   ]
  },
  {
   "cell_type": "markdown",
   "metadata": {},
   "source": [
    "### Research Question 3 (Which day is the most frequent one in both sides, the absence and attendance)"
   ]
  },
  {
   "cell_type": "code",
   "execution_count": 52,
   "metadata": {},
   "outputs": [
    {
     "data": {
      "image/png": "[encoded data removed]",
      "text/plain": [
       "<Figure size 432x432 with 1 Axes>"
      ]
     },
     "metadata": {},
     "output_type": "display_data"
    }
   ],
   "source": [
    "plot_hist('day_of_week')"
   ]
  },
  {
   "cell_type": "markdown",
   "metadata": {},
   "source": [
    "- Tuesday, and Wednesday are the top days in the patients appointments"
   ]
  },
  {
   "cell_type": "markdown",
   "metadata": {},
   "source": [
    "### Research Question 4 (Are enrolled patients in Bolsa Familia program the most attended or the vice versa)"
   ]
  },
  {
   "cell_type": "code",
   "execution_count": 53,
   "metadata": {},
   "outputs": [
    {
     "data": {
      "text/html": [
       "<div>\n",
       "<style scoped>\n",
       "    .dataframe tbody tr th:only-of-type {\n",
       "        vertical-align: middle;\n",
       "    }\n",
       "\n",
       "    .dataframe tbody tr th {\n",
       "        vertical-align: top;\n",
       "    }\n",
       "\n",
       "    .dataframe thead th {\n",
       "        text-align: right;\n",
       "    }\n",
       "</style>\n",
       "<table border=\"1\" class=\"dataframe\">\n",
       "  <thead>\n",
       "    <tr style=\"text-align: right;\">\n",
       "      <th></th>\n",
       "      <th>welfare_program</th>\n",
       "    </tr>\n",
       "  </thead>\n",
       "  <tbody>\n",
       "    <tr>\n",
       "      <th>not_enrolled</th>\n",
       "      <td>61193</td>\n",
       "    </tr>\n",
       "    <tr>\n",
       "      <th>enrolled</th>\n",
       "      <td>6468</td>\n",
       "    </tr>\n",
       "  </tbody>\n",
       "</table>\n",
       "</div>"
      ],
      "text/plain": [
       "              welfare_program\n",
       "not_enrolled            61193\n",
       "enrolled                 6468"
      ]
     },
     "execution_count": 53,
     "metadata": {},
     "output_type": "execute_result"
    }
   ],
   "source": [
    "'''Observe the majority of patinets welfare program enrollment status'''\n",
    "pd.DataFrame(show_stats_clean.welfare_program.value_counts())"
   ]
  },
  {
   "cell_type": "markdown",
   "metadata": {},
   "source": [
    "- The majority of our population is not enrolled to the governmental program."
   ]
  },
  {
   "cell_type": "code",
   "execution_count": 54,
   "metadata": {},
   "outputs": [],
   "source": [
    "'''percentage of patients enrolled and not enrolled based on some gender and no_show'''\n",
    "count_welfare=show_stats_clean.groupby('welfare_program').no_show.value_counts(normalize=True)\n",
    "count_gender=show_stats_clean.groupby('welfare_program').gender.value_counts(normalize=True)\n"
   ]
  },
  {
   "cell_type": "code",
   "execution_count": 55,
   "metadata": {},
   "outputs": [
    {
     "data": {
      "image/png": "[encoded data removed]",
      "text/plain": [
       "<Figure size 432x288 with 1 Axes>"
      ]
     },
     "metadata": {},
     "output_type": "display_data"
    }
   ],
   "source": [
    "''' We can have a better visualized conclusion of the percentage of enrolled attended patients and vice versa'''\n",
    "prop_enrollment=count_welfare.unstack().plot(kind='bar', color=['pink','red']);\n",
    "for p in prop_enrollment.patches:\n",
    "    width= p.get_width()\n",
    "    height= p.get_height()\n",
    "    x,y= p.get_xy()\n",
    "    plt.xticks(rotation=30, fontsize=9)\n",
    "    plt.legend(title='No Show')\n",
    "    plt.title('Absence based on \"Bolsa Familia\" enrollment\\n', weight='bold')\n",
    "    prop_enrollment.annotate(f'{height:.0%}', (x + width/2, y + height*1.02), ha='center')\n"
   ]
  },
  {
   "cell_type": "markdown",
   "metadata": {},
   "source": [
    "- Here, we can conduct two points:\n",
    "\n",
    " - Patients aren't enrolled in Bolsa Familia welfare program in Brazil are the high amount of patients in neighborhoods.\n",
    " \n",
    " - They attended in neighborhoods more than the enrolled ones."
   ]
  },
  {
   "cell_type": "markdown",
   "metadata": {},
   "source": [
    "### Research Question 5  (Which gender that took the Brazilian welfare care among the neighborhoods)"
   ]
  },
  {
   "cell_type": "code",
   "execution_count": 56,
   "metadata": {},
   "outputs": [
    {
     "data": {
      "image/png": "[encoded data removed]",
      "text/plain": [
       "<Figure size 432x288 with 1 Axes>"
      ]
     },
     "metadata": {},
     "output_type": "display_data"
    }
   ],
   "source": [
    "'''We can visualize the percentage of enrolled/ not_enrolled patients based on the gender'''\n",
    "prop_gender=count_gender.unstack().plot(kind='bar');\n",
    "for p in prop_gender.patches:\n",
    "    width= p.get_width()\n",
    "    height= p.get_height()\n",
    "    plt.xticks(rotation=30)\n",
    "    x,y= p.get_xy()\n",
    "    plt.title('Enrollment based on patient gender\\n', weight='bold')\n",
    "    prop_gender.annotate(f'{height:.0%}', (x + width/2, y + height*1.02), ha='center')"
   ]
  },
  {
   "cell_type": "markdown",
   "metadata": {},
   "source": [
    "- The majority of patients that took the care of Brazilian governmental program are females."
   ]
  },
  {
   "cell_type": "markdown",
   "metadata": {},
   "source": [
    "### Research Question 6  (Has receiving SMS anything to do with showing/attending in neighborhood, by how?)"
   ]
  },
  {
   "cell_type": "code",
   "execution_count": 57,
   "metadata": {},
   "outputs": [
    {
     "data": {
      "image/png": "[encoded data removed]",
      "text/plain": [
       "<Figure size 720x360 with 2 Axes>"
      ]
     },
     "metadata": {},
     "output_type": "display_data"
    }
   ],
   "source": [
    "'''We can build subplots at once to conduct wide observation, sms_receive by diagnosis, and sms_received by no_show'''\n",
    "fig, (ax1,ax2)=plt.subplots(ncols=2, sharey=True)\n",
    "sns.countplot(x='sms_received', data=show_stats_clean, hue='diagnosis', ax=ax1, palette='cividis')\n",
    "sns.countplot(x='sms_received', data=show_stats_clean, hue='no_show', ax=ax2, palette='viridis')\n",
    "fig.set_figwidth(10)\n",
    "fig.set_figheight(5)\n"
   ]
  },
  {
   "cell_type": "markdown",
   "metadata": {},
   "source": [
    "- It's quite obvious that receiving sms does not make any big difference to help patients attend their appointments\n",
    "- The patients diagnosed with Hypertension are slightly received one message than the other diagnosis "
   ]
  },
  {
   "cell_type": "markdown",
   "metadata": {},
   "source": [
    "### Research Question 7  (Which diagnosis occupy the high population in Bolsa Familia program)"
   ]
  },
  {
   "cell_type": "code",
   "execution_count": 58,
   "metadata": {},
   "outputs": [
    {
     "data": {
      "image/png": "[encoded data removed]",
      "text/plain": [
       "<Figure size 720x648 with 1 Axes>"
      ]
     },
     "metadata": {},
     "output_type": "display_data"
    }
   ],
   "source": [
    "fig, (ax1) = plt.subplots(ncols=1, sharey=True)\n",
    "figsize=(8,8)\n",
    "plt.title('Welfare enrollment based on diagnosis', fontsize=14, weight='bold')\n",
    "sns.countplot(x='welfare_program',data=show_stats_clean, hue='diagnosis', ax=ax1, palette='cubehelix');\n",
    "fig.set_figwidth(10)\n",
    "fig.set_figheight(9)"
   ]
  },
  {
   "cell_type": "markdown",
   "metadata": {},
   "source": [
    "- Patients records that diagnosed with Handicap occupy the highest percentage on both levels, enrolled and not enrolled to the program of governmental welfare, which makes pretty sense since this a high cost treatment for the handicapped patients or even their families. "
   ]
  },
  {
   "cell_type": "markdown",
   "metadata": {},
   "source": [
    "### Research Question 8  (What is the diagnosis of patients who keen to attend their appointments)"
   ]
  },
  {
   "cell_type": "code",
   "execution_count": 59,
   "metadata": {},
   "outputs": [
    {
     "data": {
      "image/png": "[encoded data removed]",
      "text/plain": [
       "<Figure size 576x288 with 1 Axes>"
      ]
     },
     "metadata": {},
     "output_type": "display_data"
    }
   ],
   "source": [
    "'''Plotting the count'''\n",
    "fig, (ax1) = plt.subplots(ncols=1, sharey=True)\n",
    "sns.countplot(x='diagnosis', data=show_stats_clean, hue='no_show', ax=ax1, palette='magma');\n",
    "plt.title('No_show patients based on diagnosis', fontsize=14, weight='bold')\n",
    "fig.set_figwidth(8)\n",
    "fig.set_figheight(4)"
   ]
  },
  {
   "cell_type": "markdown",
   "metadata": {},
   "source": [
    "- Patients diagnosed with handicap and hypertension, were the most keen to attend in all over appointments"
   ]
  },
  {
   "cell_type": "markdown",
   "metadata": {},
   "source": [
    "### Research Question 9  (What is the average age patients enrolled or not_enrolled, What is the diagnosis for this age)"
   ]
  },
  {
   "cell_type": "code",
   "execution_count": 60,
   "metadata": {},
   "outputs": [],
   "source": [
    "'''Groupby the welfare_program and diagnosis,\n",
    "to be able to get the mean age for each'''\n",
    "mean_age=show_stats_clean.groupby(['diagnosis', 'welfare_program'])['age'].mean().unstack()"
   ]
  },
  {
   "cell_type": "code",
   "execution_count": 61,
   "metadata": {},
   "outputs": [
    {
     "data": {
      "image/png": "[encoded data removed]",
      "text/plain": [
       "<Figure size 576x576 with 1 Axes>"
      ]
     },
     "metadata": {},
     "output_type": "display_data"
    }
   ],
   "source": [
    "'''Find the average by visual'''\n",
    "mean_age.plot(kind='bar',color=['gold', 'purple'], figsize=(8,8))\n",
    "plt.title('Average age per welfare program enrollment\\n',fontsize=14, weight='bold')\n",
    "plt.xticks(weight='bold', fontsize=12, rotation=30)\n",
    "plt.ylabel('Age average', fontsize=15)\n",
    "plt.xlabel('Diagnoses', fontsize=15)\n",
    "plt.legend(title='Welfare_program');\n"
   ]
  },
  {
   "cell_type": "markdown",
   "metadata": {},
   "source": [
    "- The average age among population for enrolled diabetic and hypertensed patients are almost near, 65, 63 years old\n",
    "- The average age for not_enrolled patients were almost 53 and diagnosed by diabetes, and 50 years old with hypertension"
   ]
  },
  {
   "cell_type": "markdown",
   "metadata": {},
   "source": [
    "### Research Question 10  (What was the range of time gap, and which period is the peak )"
   ]
  },
  {
   "cell_type": "code",
   "execution_count": 62,
   "metadata": {},
   "outputs": [
    {
     "data": {
      "image/png": "[encoded data removed]",
      "text/plain": [
       "<Figure size 432x288 with 1 Axes>"
      ]
     },
     "metadata": {},
     "output_type": "display_data"
    }
   ],
   "source": [
    "'''We can get the density plot of the time gap'''\n",
    "sns.kdeplot(x='time_gap',data=show_stats_clean, color='purple')\n",
    "plt.title('Average of waiting period');"
   ]
  },
  {
   "cell_type": "markdown",
   "metadata": {},
   "source": [
    "- The majority of waiting period was between 0 to a month"
   ]
  },
  {
   "cell_type": "code",
   "execution_count": 63,
   "metadata": {},
   "outputs": [
    {
     "data": {
      "image/png": "[encoded data removed]",
      "text/plain": [
       "<Figure size 432x288 with 1 Axes>"
      ]
     },
     "metadata": {},
     "output_type": "display_data"
    }
   ],
   "source": [
    "'''Plotting the scatter between waiting period of each diagnosis'''\n",
    "show_stats_clean.plot.scatter(x='diagnosis', y='time_gap', color='Darkblue', alpha=0.9);"
   ]
  },
  {
   "cell_type": "markdown",
   "metadata": {},
   "source": [
    "- Hypertension patients can be hold for very long time to take the proper needed service, same as Handicap, which is needed to be addressed to the decision makers for enhancing the service"
   ]
  },
  {
   "cell_type": "markdown",
   "metadata": {},
   "source": [
    "### Research Question 11  (Which gender is suffering from each diagnosis)"
   ]
  },
  {
   "cell_type": "code",
   "execution_count": 64,
   "metadata": {},
   "outputs": [
    {
     "data": {
      "image/png": "[encoded data removed]",
      "text/plain": [
       "<Figure size 432x288 with 1 Axes>"
      ]
     },
     "metadata": {},
     "output_type": "display_data"
    }
   ],
   "source": [
    "'''Plotting the count'''\n",
    "sns.countplot(x='diagnosis', hue='gender', data=show_stats_clean);"
   ]
  },
  {
   "cell_type": "markdown",
   "metadata": {},
   "source": [
    "- In all kinds of diagnosis, the female patients are suffering more than the male ones, except the \"alcoholism\" diagnosis, male patients were higher in appointments"
   ]
  },
  {
   "cell_type": "markdown",
   "metadata": {},
   "source": [
    "### Research Question 12  (What are the most frequent (crowded) Neighborhood, top 5)"
   ]
  },
  {
   "cell_type": "code",
   "execution_count": 65,
   "metadata": {},
   "outputs": [
    {
     "data": {
      "image/png": "[encoded data removed]",
      "text/plain": [
       "<Figure size 432x432 with 1 Axes>"
      ]
     },
     "metadata": {},
     "output_type": "display_data"
    }
   ],
   "source": [
    "ax=show_stats_clean['neighborhood'].value_counts()[:3]\n",
    "ax.plot(kind='bar',figsize=(6,6), color=['red','purple','lightblue'])\n",
    "plt.xticks(rotation=30);\n",
    "plt.ylabel('\\nTotal of appointments', fontsize=13)\n",
    "plt.xlabel('\\nNeighborhood', fontsize=11)\n",
    "plt.title('Top three crowded neighborhood', weight='bold');"
   ]
  },
  {
   "cell_type": "markdown",
   "metadata": {},
   "source": [
    "- Here, we got the top three neighborhoods in Brazil that were crowded with number of appointments, the most frequent one is \"JARDIM CAMBURI\" neighborhood"
   ]
  },
  {
   "cell_type": "markdown",
   "metadata": {},
   "source": [
    "### Research Question 13  (What diagnosis that need more concentration from government, and in Which neighborhood)"
   ]
  },
  {
   "cell_type": "code",
   "execution_count": 66,
   "metadata": {},
   "outputs": [
    {
     "data": {
      "image/png": "[encoded data removed]",
      "text/plain": [
       "<Figure size 432x432 with 1 Axes>"
      ]
     },
     "metadata": {},
     "output_type": "display_data"
    }
   ],
   "source": [
    "n_d=show_stats_clean.groupby(['diagnosis'])['neighborhood'].value_counts()[:3].unstack()\n",
    "n_d\n",
    "n_d.plot(kind='barh',figsize=(6,6), color=['red','purple','lightblue'])\n",
    "plt.xticks(rotation=30);\n",
    "plt.ylabel('\\nDiagnosis', fontsize=13)\n",
    "plt.xlabel('\\nNumber of cases', fontsize=11)\n",
    "plt.title('Top three neighborhoods suffer from peak disease');\n"
   ]
  },
  {
   "cell_type": "markdown",
   "metadata": {},
   "source": [
    "- Alcoholism is the most common diganosis in \"SANTA MARTHA\" neighborhood with number of cases near to 350.\n",
    "<!-- which leads to put some special restrictions in this neighborhood, to limit the at least for upcoming generations not to drink alcoholic drinks -->"
   ]
  },
  {
   "cell_type": "markdown",
   "metadata": {},
   "source": [
    "### Research Question 14  (Is there any correlation between age and being diagnosed by specific disease)"
   ]
  },
  {
   "cell_type": "code",
   "execution_count": 67,
   "metadata": {},
   "outputs": [
    {
     "data": {
      "image/png": "[encoded data removed]",
      "text/plain": [
       "<Figure size 432x288 with 1 Axes>"
      ]
     },
     "metadata": {},
     "output_type": "display_data"
    }
   ],
   "source": [
    "show_stats_clean.plot.scatter(x='age', y='diagnosis', color='purple', alpha=0.9);"
   ]
  },
  {
   "cell_type": "markdown",
   "metadata": {},
   "source": [
    "- Hypertension, and diabetes patients are easily get diagnosed with them by age/time, note to say that hyper and diabetic young patient can get it as it's inborn disease.\n",
    "\n",
    "- Alcoholism patients scope/range is getting tight by age.\n",
    "- Handicap is more common in young age, because of the nature of it, and it's almost stable."
   ]
  },
  {
   "cell_type": "code",
   "execution_count": 68,
   "metadata": {},
   "outputs": [
    {
     "data": {
      "text/html": [
       "<div>\n",
       "<style scoped>\n",
       "    .dataframe tbody tr th:only-of-type {\n",
       "        vertical-align: middle;\n",
       "    }\n",
       "\n",
       "    .dataframe tbody tr th {\n",
       "        vertical-align: top;\n",
       "    }\n",
       "\n",
       "    .dataframe thead th {\n",
       "        text-align: right;\n",
       "    }\n",
       "</style>\n",
       "<table border=\"1\" class=\"dataframe\">\n",
       "  <thead>\n",
       "    <tr style=\"text-align: right;\">\n",
       "      <th></th>\n",
       "      <th>patient_id</th>\n",
       "      <th>appointment_id</th>\n",
       "      <th>gender</th>\n",
       "      <th>scheduled_day</th>\n",
       "      <th>appointment_day</th>\n",
       "      <th>age</th>\n",
       "      <th>neighborhood</th>\n",
       "      <th>welfare_program</th>\n",
       "      <th>sms_received</th>\n",
       "      <th>no_show</th>\n",
       "      <th>diagnosis</th>\n",
       "      <th>time_gap</th>\n",
       "      <th>day_of_week</th>\n",
       "      <th>month_of_year</th>\n",
       "    </tr>\n",
       "  </thead>\n",
       "  <tbody>\n",
       "    <tr>\n",
       "      <th>19380</th>\n",
       "      <td>748234579244724</td>\n",
       "      <td>5717451</td>\n",
       "      <td>F</td>\n",
       "      <td>2016-05-19 07:57:56</td>\n",
       "      <td>2016-06-03</td>\n",
       "      <td>115</td>\n",
       "      <td>SÃO JOSÉ</td>\n",
       "      <td>not_enrolled</td>\n",
       "      <td>0</td>\n",
       "      <td>No</td>\n",
       "      <td>hypertension</td>\n",
       "      <td>14</td>\n",
       "      <td>Friday</td>\n",
       "      <td>June</td>\n",
       "    </tr>\n",
       "    <tr>\n",
       "      <th>62165</th>\n",
       "      <td>748234579244724</td>\n",
       "      <td>5717451</td>\n",
       "      <td>F</td>\n",
       "      <td>2016-05-19 07:57:56</td>\n",
       "      <td>2016-06-03</td>\n",
       "      <td>115</td>\n",
       "      <td>SÃO JOSÉ</td>\n",
       "      <td>not_enrolled</td>\n",
       "      <td>0</td>\n",
       "      <td>No</td>\n",
       "      <td>handicap</td>\n",
       "      <td>14</td>\n",
       "      <td>Friday</td>\n",
       "      <td>June</td>\n",
       "    </tr>\n",
       "  </tbody>\n",
       "</table>\n",
       "</div>"
      ],
      "text/plain": [
       "            patient_id appointment_id gender       scheduled_day  \\\n",
       "19380  748234579244724        5717451      F 2016-05-19 07:57:56   \n",
       "62165  748234579244724        5717451      F 2016-05-19 07:57:56   \n",
       "\n",
       "      appointment_day  age neighborhood welfare_program  sms_received no_show  \\\n",
       "19380      2016-06-03  115     SÃO JOSÉ    not_enrolled             0      No   \n",
       "62165      2016-06-03  115     SÃO JOSÉ    not_enrolled             0      No   \n",
       "\n",
       "          diagnosis  time_gap day_of_week month_of_year  \n",
       "19380  hypertension        14      Friday          June  \n",
       "62165      handicap        14      Friday          June  "
      ]
     },
     "execution_count": 68,
     "metadata": {},
     "output_type": "execute_result"
    }
   ],
   "source": [
    "'''Conclude the diagnosis of age 115 we have in our dataset'''\n",
    "show_stats_clean.query('age==115')"
   ]
  },
  {
   "cell_type": "markdown",
   "metadata": {},
   "source": [
    "- Patient is suffering from two high risk diseases, Hypertension and Handicap which can be taken into the health ministry consideration"
   ]
  },
  {
   "cell_type": "code",
   "execution_count": 69,
   "metadata": {},
   "outputs": [],
   "source": [
    "'''Save changes in a csv file for any further analysis'''\n",
    "show_stats_clean.to_csv('show_stats_clean.csv', index=False)"
   ]
  },
  {
   "cell_type": "markdown",
   "metadata": {},
   "source": [
    "<a id='conclusions'></a>\n",
    "## Conclusions\n",
    "\n",
    "- We have (77%) of whole valid populations have attended their appointments, (23%) missed their appointments in neighborhoods.\n",
    "- The peak month in the records of first quarter of 2016, is (May) on both levels, absence and attendance.\n",
    "- The peak two days are Tuesday, and then Wednesday, that the patients were frequenting to the neighborhoods on.\n",
    "- Number of enrolled patients in *Bolsa Familia* Brazilian welfare program are almost (90%) from the population, not_enrolled around (10%)\n",
    "- (78%) from not_enrolled patients attended the appointments in neighborhoods, (22%) didn't.\n",
    "- (72%) of enrolled patients attended the appointments, and 28% missed.\n",
    "- (87%) of enrolled patients are females, and (13%) males.\n",
    "(66%) of not_enrolled patients are females as well, but (34%) are males.\n",
    "- There SMS till (4) messages supposed to be sent to the patients, but after digging into the data, sending messages has nothing to do with making patients attending their appointments\n",
    "- Handicap in the top diagnosis among all patients records, and on both levels (enrolled, not_enrolled to welfare program)\n",
    "- The majority of patients were diagnosed with Handicap, and Hypertension.\n",
    "- The highest average age of not_enrolled, diabetic patients is (65) years old.\n",
    "- The average age of Hypertensed patients is (63) and they were not enrolled to *Bolsa Familia*\n",
    "- The frequent waiting period range falls in the period of (0 to a 30 days).\n",
    "- Female patients are suffeting from (Handicap), not to mention that femal patients are suffering more than males in all kind of diagnosis, except (Alcoholism) males are suffering from it more than femals.\n",
    "- Top three crowded neighborhoods are (JARDIM CAMBURI, JARDIM DA PENCHA, and RESISTENCIA)\n",
    "- Most of (SANTA MARTHA, DA PENHA, BONFIM) neighborhoods are recieving high frequent cases of (Alcoholism), SANTA MARTHA receives aroung (350) cases\n",
    "- We can obviously notice that (Hypertension, Diabetes) are common in the old age.\n",
    "## Suggestions\n",
    "- It's preferrable to stop the service of sending SMS messages, as it does not play almost any role in making patients attending their appointments.\n",
    "- Ministry of health shall put some restrictions in (SANTA MARTHA) neiborhood to limit it\n",
    "- We can suggest to enroll (SÃO JOSÉ) with patient ID to the governmental welfare care, especially that he's suffering from Hypertension along with Handicap\n",
    "- The waiting period for Hypertension and Handicap patients can be hold for really long time, which there must be a way to enhance the service, may be Brazilian ministry can offer any health care in house.\n",
    "\n",
    "\n",
    "\n",
    "\n",
    "\n",
    "\n",
    "### Limitations\n",
    "**Tidiness issues:**\n",
    "- There're four columns of diseases can with positive or negative value for each patient, these can be in one column \"Diagnosis\".\n",
    "\n",
    "**Quality issues:**\n",
    "\n",
    "*Accuracy issues*\n",
    "- There're mistyping of columns names\n",
    "- ScheduledDay, and AppointmentDay should be as datetime format\n",
    "- PatiendID and AppointmentID should be string (object)\n",
    "- Scholarship column should be renamed with \"Welfare_program\", for more interpretation\n",
    "- Handcap has values from 1 to 4 which is definitely swapped with the values of sms_received as the values of it are only 0 and 1\n",
    "\n",
    "*Completeness issues:*\n",
    "- The time of scheduled day is missing, and it's been replaced by 00:00:00 which shall be ignored/excluded\n",
    "- There was not any null values, but by digging into details, it was just ages missing so the data entry it by only 0\n",
    "\n",
    "*Validity issues:*\n",
    "- Age has <= 0 amounts, which should be dropped\n",
    "- Patients age <= 18 ( the legal age of drink alcohol in Brazil ) should be dropped\n",
    "- Some dates of scheduled day column were registered after the appointment day, which caused time gap(waiting period) invalid with negative values\n",
    "\n",
    "*Consistency issues:*\n",
    "- There were not any severe consistency issues observed in the dataset"
   ]
  },
  {
   "cell_type": "code",
   "execution_count": 70,
   "metadata": {},
   "outputs": [
    {
     "data": {
      "text/plain": [
       "1"
      ]
     },
     "execution_count": 70,
     "metadata": {},
     "output_type": "execute_result"
    }
   ],
   "source": [
    "from subprocess import call\n",
    "call(['python', '-m', 'nbconvert', 'Investigate_a_Dataset.ipynb'])"
   ]
  },
  {
   "cell_type": "code",
   "execution_count": null,
   "metadata": {},
   "outputs": [],
   "source": []
  },
  {
   "cell_type": "code",
   "execution_count": null,
   "metadata": {},
   "outputs": [],
   "source": []
  }
 ],
 "metadata": {
  "kernelspec": {
   "display_name": "Python 3 (ipykernel)",
   "language": "python",
   "name": "python3"
  },
  "language_info": {
   "codemirror_mode": {
    "name": "ipython",
    "version": 3
   },
   "file_extension": ".py",
   "mimetype": "text/x-python",
   "name": "python",
   "nbconvert_exporter": "python",
   "pygments_lexer": "ipython3",
   "version": "3.8.8"
  }
 },
 "nbformat": 4,
 "nbformat_minor": 2
}
